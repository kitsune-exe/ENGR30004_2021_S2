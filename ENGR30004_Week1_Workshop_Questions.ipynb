{
 "cells": [
  {
   "cell_type": "markdown",
   "source": [
    "# ENGR30004\n",
    "\n",
    "Welcome to ENGR 30004: Numerical Algorithms in Engineering!\n",
    "\n",
    "\n",
    "**Tutor Contact Details:** \n",
    "\n",
    "- Rajith Vidanaarachchi (rajith.vidanaarachchi@unimelb.edu.au)\n",
    "\n",
    "**Software Requirements:**\n",
    "\n",
    "- All the workshops will be done in *Python Notebooks*, easily accessed via Google Colab. However, you are free to use other IDEs such as *PyCharm*.\n",
    "\n",
    "**Workshop Structure**\n",
    "\n",
    "- Each workshop will have several in-class questions. We will walk you through some of these questions. Others, we will ask you to complete during the workshop.\n",
    "\n",
    "- Each workshop will also have a set-of take-home questions, that you are to submit by next week. Some of these will count towards your grade (we will tell you which ones), but you are encouraged to submit all of them. These assignments are to be submitted as stand-alone python files (i.e. **.py** files).\n",
    "\n",
    "\n",
    "\n"
   ],
   "metadata": {
    "id": "C9JWKKevTKPm"
   }
  },
  {
   "cell_type": "markdown",
   "source": [
    "## Week 1 - Python Basics"
   ],
   "metadata": {
    "id": "j9asDpizt-wC"
   }
  },
  {
   "cell_type": "markdown",
   "source": [
    "Python is a high level object-oriented language.\n",
    "\n",
    "| Level | Example  |\n",
    "|---|---|\n",
    "| High | Python, MATLAB, JavaScript|\n",
    "|  | C, C++  |\n",
    "| Low | Assembly language  |\n",
    "| Hardware | Machine code, microcode  |\n",
    "\n",
    "Python has a wide range of applications​:\n",
    "* Web applications​ (YouTube is based on Python)\n",
    "* GUI programming​\n",
    "* Robotics​\n",
    "* Machine Learning"
   ],
   "metadata": {
    "id": "xNOMRe38u2cf"
   }
  },
  {
   "cell_type": "markdown",
   "source": [
    "### I.1. Built-in Data types and structures\n"
   ],
   "metadata": {
    "id": "QZ2adbEn472R"
   }
  },
  {
   "cell_type": "markdown",
   "source": [
    "Often used built-in data types include:\n",
    "* **Boolean values (bool)**: `True`, `False`. Many object values are considered as `False` when used with `if` and `while`, including: `None`, `False`, zero of any numeric type, any empty sequence, empty set, empty dictionary. All other values are considered `True`. \n",
    "* **Numeric types**\n",
    "    * **Integer (int, uint8, int16, int32, int64, ...)**: `1`, `2`, `0`, `1413121`, `-789`\n",
    "    * **Float (float, float16, float32, ...)**: `0.989`, `-890.78`, `1e14`, `1e-20`, `-2e5`​\n",
    "* **Sequence types**\n",
    "    * **List (list)**: `[1, True, 3.5, 'list', [1, False, 3.5, 'list', []]]`\n",
    "    * **Tuple (tuple)**: `(1, True, 3.5, 'list', (1, False, 3.5, 'list', []))` - tuple is immutable\n",
    "    * **Range (range)**: `range(4)` creats an range object that contains 0, 1, 2, 3; `range(5, 3, -1)` contains 5, 4.\n",
    "    * **String (str)**: `\"a\"`, `'a'`, `\"Hello\"`, `'abgdef'`, `'1mississipi'`, `'12321231'`​. Formatted Strings : `\" {} is John's Father\".format('David')`, `\" %i th of %s is %s day\"%(9, 'march', \"Labor\")`​\n",
    "* **Set (set)**: `{1, True, 3.5, 'list', [1, True, 3.5, 'list', []]}`\n",
    "* **Dictionary (dict)**: `{'int': 1, 'float': 3.5, 'bool': True, 'str': 'list', 'list': [1, True, 3.5, 'list', []]}`\n",
    "* **Null object (NoneType)**: `None`\n",
    "\n",
    "There are relatively less-often-used data types, such as bytes, complex, and generator.  \n",
    "\n",
    "Each data type is itself an object and has its own methods."
   ],
   "metadata": {
    "id": "Ccmq-2t9o0zz"
   }
  },
  {
   "cell_type": "markdown",
   "source": [
    "Some examples are shown below:"
   ],
   "metadata": {
    "id": "CW6nG2d3WyYe"
   }
  },
  {
   "cell_type": "code",
   "execution_count": 2,
   "source": [
    "a = 10\n",
    "b = \"10\""
   ],
   "outputs": [],
   "metadata": {
    "id": "0s_a2kwC-BlB"
   }
  },
  {
   "cell_type": "code",
   "execution_count": 3,
   "source": [
    "# integers\n",
    "type(a)"
   ],
   "outputs": [
    {
     "output_type": "execute_result",
     "data": {
      "text/plain": [
       "int"
      ]
     },
     "metadata": {},
     "execution_count": 3
    }
   ],
   "metadata": {
    "colab": {
     "base_uri": "https://localhost:8080/"
    },
    "id": "tmzR16ja-gpF",
    "outputId": "99ef1444-b21d-4777-823b-806f47439777"
   }
  },
  {
   "cell_type": "code",
   "execution_count": 10,
   "source": [
    "# strings\n",
    "type(b)"
   ],
   "outputs": [
    {
     "output_type": "execute_result",
     "data": {
      "text/plain": [
       "str"
      ]
     },
     "metadata": {
      "tags": []
     },
     "execution_count": 10
    }
   ],
   "metadata": {
    "colab": {
     "base_uri": "https://localhost:8080/"
    },
    "id": "oOTgHqSd-bx_",
    "outputId": "bf0a00df-ac3e-468b-81bd-af34b60ce615"
   }
  },
  {
   "cell_type": "code",
   "execution_count": 12,
   "source": [
    "# assigning variable a's value to the variable b -- see how the type of b changes now\n",
    "b = a\n",
    "type(b)"
   ],
   "outputs": [
    {
     "output_type": "execute_result",
     "data": {
      "text/plain": [
       "int"
      ]
     },
     "metadata": {
      "tags": []
     },
     "execution_count": 12
    }
   ],
   "metadata": {
    "colab": {
     "base_uri": "https://localhost:8080/"
    },
    "id": "53Brvzmm-jGk",
    "outputId": "92246f93-9682-41a0-92b8-85bfd4b91a5c"
   }
  },
  {
   "cell_type": "code",
   "execution_count": 18,
   "source": [
    "# Lists - we define a list using square brackets []\n",
    "my_list = [0, 1, 2, 3, 4, 5]\n",
    "type(my_list)"
   ],
   "outputs": [
    {
     "output_type": "execute_result",
     "data": {
      "text/plain": [
       "list"
      ]
     },
     "metadata": {
      "tags": []
     },
     "execution_count": 18
    }
   ],
   "metadata": {
    "colab": {
     "base_uri": "https://localhost:8080/"
    },
    "id": "SK9BPiWYqrWw",
    "outputId": "41043af7-b820-48ad-c3e8-b9375e85d5c1"
   }
  },
  {
   "cell_type": "code",
   "execution_count": 20,
   "source": [
    "# elements in the lists can be accessed with their index. The index of the first element starts with 0.\n",
    "my_list[0]"
   ],
   "outputs": [
    {
     "output_type": "execute_result",
     "data": {
      "text/plain": [
       "0"
      ]
     },
     "metadata": {
      "tags": []
     },
     "execution_count": 20
    }
   ],
   "metadata": {
    "colab": {
     "base_uri": "https://localhost:8080/"
    },
    "id": "PoufNmE8a1Ih",
    "outputId": "2ff8a5e3-81b0-45b5-801a-146c234287a1"
   }
  },
  {
   "cell_type": "code",
   "execution_count": 21,
   "source": [
    "# tuples\n",
    "my_tuple = (1,2)\n",
    "type(my_tuple)"
   ],
   "outputs": [
    {
     "output_type": "execute_result",
     "data": {
      "text/plain": [
       "tuple"
      ]
     },
     "metadata": {
      "tags": []
     },
     "execution_count": 21
    }
   ],
   "metadata": {
    "colab": {
     "base_uri": "https://localhost:8080/"
    },
    "id": "ltwdXZfhq01m",
    "outputId": "668f1db9-921a-455d-b9d4-70dce501fc30"
   }
  },
  {
   "cell_type": "code",
   "execution_count": 26,
   "source": [
    "# range\n",
    "r = range(1, 10)\n",
    "type(r)"
   ],
   "outputs": [
    {
     "output_type": "execute_result",
     "data": {
      "text/plain": [
       "range"
      ]
     },
     "metadata": {
      "tags": []
     },
     "execution_count": 26
    }
   ],
   "metadata": {
    "colab": {
     "base_uri": "https://localhost:8080/"
    },
    "id": "Xo3ptFLQrB9L",
    "outputId": "5725ef8f-4e54-45d4-983e-cbcc69e0e8fe"
   }
  },
  {
   "cell_type": "markdown",
   "source": [
    "### I.2. Operators"
   ],
   "metadata": {
    "id": "-ALelpKIpDav"
   }
  },
  {
   "cell_type": "markdown",
   "source": [
    "Operators are used to compute something. In python many different kinds of operators are used. We will explore some of these.\n",
    "\n",
    "* **Artithmatic Operators**: +, -,\\*, /, //, %, \\** \n",
    "* **Comparison Operators**: <, >, <=, >=, ==, !=\n",
    "* **Logical Operators**: and, or, not\n",
    "* **Assignment Operators**: =, +=, -=, *=, /=, etc.\n",
    "\n",
    "This is a non exhaustive list, and you can find out about more operators "
   ],
   "metadata": {
    "id": "DUdsLeYspU-I"
   }
  },
  {
   "cell_type": "code",
   "execution_count": 1,
   "source": [
    "1+2"
   ],
   "outputs": [
    {
     "output_type": "execute_result",
     "data": {
      "text/plain": [
       "3"
      ]
     },
     "metadata": {
      "tags": []
     },
     "execution_count": 1
    }
   ],
   "metadata": {
    "colab": {
     "base_uri": "https://localhost:8080/"
    },
    "id": "0z5Is-AJpR69",
    "outputId": "97cff0da-0f1e-490a-944d-e7c948cc7e4b"
   }
  },
  {
   "cell_type": "code",
   "execution_count": 2,
   "source": [
    "a = 1\n",
    "b = 2\n",
    "b*a"
   ],
   "outputs": [
    {
     "output_type": "execute_result",
     "data": {
      "text/plain": [
       "2"
      ]
     },
     "metadata": {
      "tags": []
     },
     "execution_count": 2
    }
   ],
   "metadata": {
    "colab": {
     "base_uri": "https://localhost:8080/"
    },
    "id": "Ot8nrxLlql_g",
    "outputId": "4235eed5-b961-4ebc-d901-737c3ebb2c0f"
   }
  },
  {
   "cell_type": "code",
   "execution_count": 3,
   "source": [
    "type(3 < 5)"
   ],
   "outputs": [
    {
     "output_type": "execute_result",
     "data": {
      "text/plain": [
       "bool"
      ]
     },
     "metadata": {
      "tags": []
     },
     "execution_count": 3
    }
   ],
   "metadata": {
    "colab": {
     "base_uri": "https://localhost:8080/"
    },
    "id": "5dZHAP6zuPU8",
    "outputId": "3afef7da-766d-4cb8-e5a9-5f76c6e603e3"
   }
  },
  {
   "cell_type": "code",
   "execution_count": 4,
   "source": [
    "(3 < 5) and (4 < 1)"
   ],
   "outputs": [
    {
     "output_type": "execute_result",
     "data": {
      "text/plain": [
       "False"
      ]
     },
     "metadata": {
      "tags": []
     },
     "execution_count": 4
    }
   ],
   "metadata": {
    "colab": {
     "base_uri": "https://localhost:8080/"
    },
    "id": "AsxDvRRsuRmk",
    "outputId": "b9f58ef1-2914-43c1-f25d-3854577a9d63"
   }
  },
  {
   "cell_type": "code",
   "execution_count": 5,
   "source": [
    "a = 5\n",
    "a += 2 # a = a+2\n",
    "a"
   ],
   "outputs": [
    {
     "output_type": "execute_result",
     "data": {
      "text/plain": [
       "7"
      ]
     },
     "metadata": {
      "tags": []
     },
     "execution_count": 5
    }
   ],
   "metadata": {
    "colab": {
     "base_uri": "https://localhost:8080/"
    },
    "id": "ACIJ2XmbuXbX",
    "outputId": "463a29f3-8e0b-42e4-8488-b45f4d0eda28"
   }
  },
  {
   "cell_type": "markdown",
   "source": [
    "### I.3. Control flow"
   ],
   "metadata": {
    "id": "pvqcWnK4FtPA"
   }
  },
  {
   "cell_type": "markdown",
   "source": [
    "The following control flows can be found for any programming languages. \n",
    "Python just has its unique style (i.e., using indentation to \n",
    "indicate code block)"
   ],
   "metadata": {
    "id": "9Qe2cAytW47d"
   }
  },
  {
   "cell_type": "code",
   "execution_count": 32,
   "source": [
    "# label\n",
    "a = b = 3\n",
    "print('The value of a is {}; b is {}'.format(a, b))\n",
    "\n",
    "# you can also write the print statement in different ways\n",
    "print(\"The value of a is \" + str(a) + \"; b is \" +str(b))\n",
    "print(\"The value of a is \", a, \"; b is \", b, sep='')"
   ],
   "outputs": [
    {
     "output_type": "stream",
     "name": "stdout",
     "text": [
      "The value of a is 3; b is 3\n",
      "The value of a is 3; b is 3\n",
      "The value of a is 3; b is 3\n"
     ]
    }
   ],
   "metadata": {
    "colab": {
     "base_uri": "https://localhost:8080/"
    },
    "id": "j0CCRHfoGNns",
    "outputId": "5a521908-2efe-4fb3-d4d1-1f7c6adb854b"
   }
  },
  {
   "cell_type": "code",
   "execution_count": 34,
   "source": [
    "# sequence\n",
    "\n",
    "# a, b = 3.0, 2.0\n",
    "a = 3.0\n",
    "b = 2.0\n",
    "\n",
    "c = a - b\n",
    "d = c + b\n",
    "\n",
    "print('Does d equal a? {}'.format(d == a))\n",
    "print('Does d equal a? {:.3f}'.format(d == a))"
   ],
   "outputs": [
    {
     "output_type": "stream",
     "name": "stdout",
     "text": [
      "Does d equal a? True\n",
      "Does d equal a? 1.000\n"
     ]
    }
   ],
   "metadata": {
    "colab": {
     "base_uri": "https://localhost:8080/"
    },
    "id": "vfXS-TfGGYmq",
    "outputId": "13c413f7-703e-48e9-b84f-ead72dd540a2"
   }
  },
  {
   "cell_type": "code",
   "execution_count": 35,
   "source": [
    "# subroutine \n",
    "# In python we define functions with def keyword followed by the function name and then the function parameteres within paranthesis. \n",
    "\n",
    "\n",
    "def add_two_number(l, m):\n",
    "    return l + m\n",
    "\n",
    "\n",
    "x = 3; y = 5\n",
    "print(add_two_number(x, y))\n",
    "print(add_two_number(50, 40))"
   ],
   "outputs": [
    {
     "output_type": "stream",
     "name": "stdout",
     "text": [
      "8\n",
      "90\n"
     ]
    }
   ],
   "metadata": {
    "colab": {
     "base_uri": "https://localhost:8080/"
    },
    "id": "USsfQoXJGc3z",
    "outputId": "5cab8966-efca-45df-8ea7-988dbde00a9a"
   }
  },
  {
   "cell_type": "code",
   "execution_count": 36,
   "source": [
    "def f(x):\n",
    "  return x**2 + 2*x + 5\n",
    "\n",
    "print(f(20))\n",
    "print(f(30))"
   ],
   "outputs": [
    {
     "output_type": "stream",
     "name": "stdout",
     "text": [
      "445\n",
      "965\n"
     ]
    }
   ],
   "metadata": {
    "colab": {
     "base_uri": "https://localhost:8080/"
    },
    "id": "9TCGlCzfWoWe",
    "outputId": "91763e6c-ebe5-45a0-da2e-0bd260f9d771"
   }
  },
  {
   "cell_type": "code",
   "execution_count": 37,
   "source": [
    "# Choices\n",
    "# numpy is a scientific computing library for Python. \n",
    "# We will focus on this in next week\n",
    "import numpy as np\n",
    "\n",
    "a = np.random.rand(1)  # generate a random float between 0 and 1 (never reach 1)\n",
    "print(\"a = {}\".format(a))\n",
    "\n",
    "if a < 0.5:\n",
    "    b = a - 0.5\n",
    "elif a < 0.8:\n",
    "    b = a - 0.8\n",
    "else:\n",
    "    b = a - 1.0\n",
    "    \n",
    "print('The value of b is {:.2e}'.format(b[0]))\n",
    "print('The value of b is {:.2g}'.format(b[0]))"
   ],
   "outputs": [
    {
     "output_type": "stream",
     "name": "stdout",
     "text": [
      "a = [0.18967623]\n",
      "The value of b is -3.10e-01\n",
      "The value of b is -0.31\n"
     ]
    }
   ],
   "metadata": {
    "colab": {
     "base_uri": "https://localhost:8080/"
    },
    "id": "2OFLWmVlHCxs",
    "outputId": "2465e0c2-b1ea-46db-eba3-efee01e16d46"
   }
  },
  {
   "cell_type": "code",
   "execution_count": 19,
   "source": [
    "for i in range(3, 5):\n",
    "  print(i)"
   ],
   "outputs": [
    {
     "output_type": "stream",
     "name": "stdout",
     "text": [
      "3\n",
      "4\n"
     ]
    }
   ],
   "metadata": {
    "colab": {
     "base_uri": "https://localhost:8080/"
    },
    "id": "PQxMhBZ-X2E7",
    "outputId": "c3f78ddd-b2e1-4de3-9cbd-b30a46a8ef8c"
   }
  },
  {
   "cell_type": "code",
   "execution_count": 20,
   "source": [
    "# loop 1\n",
    "import numpy as np\n",
    "\n",
    "a = np.random.randint(1, 100)  # generate a random integer between 1 and 99\n",
    "\n",
    "for i in range(10):\n",
    "    print('The value of a is {}'.format(a))\n",
    "    if a % 2 == 0:  # % is modulus operation that calculates the remainder\n",
    "        a = a // 2  # // is integer division\n",
    "    else:\n",
    "        a += 3\n",
    "    if a == 1:  # early exit from loops\n",
    "        print('The loop breaks at the {} iteration.'.format(i + 1))\n",
    "        break  # continue and pass\n",
    "else:  # default step if no early exit happens\n",
    "    print('Default step - did not exit early')"
   ],
   "outputs": [
    {
     "output_type": "stream",
     "name": "stdout",
     "text": [
      "The value of a is 40\n",
      "The value of a is 20\n",
      "The value of a is 10\n",
      "The value of a is 5\n",
      "The value of a is 8\n",
      "The value of a is 4\n",
      "The value of a is 2\n",
      "The loop breaks at the 7 iteration.\n"
     ]
    }
   ],
   "metadata": {
    "colab": {
     "base_uri": "https://localhost:8080/"
    },
    "id": "o0nYYenfHUHr",
    "outputId": "cfca5155-6c5d-4f9f-a9bb-643d009b8a1c"
   }
  },
  {
   "cell_type": "code",
   "execution_count": 21,
   "source": [
    "# loop 2\n",
    "import numpy as np\n",
    "\n",
    "a = np.random.randint(1, 100)\n",
    "while a > 4:\n",
    "    print('The value of a is {}'.format(a))\n",
    "    if a % 2 == 0:  # % is modulus operation that calculates the remainder\n",
    "        a = a // 2  # // is integer division\n",
    "    else:\n",
    "        a += 3"
   ],
   "outputs": [
    {
     "output_type": "stream",
     "name": "stdout",
     "text": [
      "The value of a is 79\n",
      "The value of a is 82\n",
      "The value of a is 41\n",
      "The value of a is 44\n",
      "The value of a is 22\n",
      "The value of a is 11\n",
      "The value of a is 14\n",
      "The value of a is 7\n",
      "The value of a is 10\n",
      "The value of a is 5\n",
      "The value of a is 8\n"
     ]
    }
   ],
   "metadata": {
    "colab": {
     "base_uri": "https://localhost:8080/"
    },
    "id": "aTEgr6b2HZ4F",
    "outputId": "6190cf91-4f93-49d0-da88-53628699e638"
   }
  },
  {
   "cell_type": "markdown",
   "source": [
    "## In-class problems"
   ],
   "metadata": {
    "id": "9kckYLbBUOU1"
   }
  },
  {
   "cell_type": "markdown",
   "source": [
    "### **Problem 1**"
   ],
   "metadata": {
    "id": "96BiylJMcxCw"
   }
  },
  {
   "cell_type": "markdown",
   "source": [
    "As a very basic functioning piece of code, with some formatted output, let us write a program to print out the first 100 Fibonacci Numbers: \n",
    "\n",
    "The Fibonacci Sequence, $F = \\{ F_0, F_1, ... F_n\\}$ is recursively defined as:\n",
    "\n",
    "$F_0 = 1$, \\\n",
    "$F_1 = 1$, \\\n",
    "$F_k = F_{k-1} + F_{k-2}, \\forall k > 1 $ \n",
    "\n",
    "\n",
    "\n"
   ],
   "metadata": {
    "id": "zEqOkHOXb5aL"
   }
  },
  {
   "cell_type": "markdown",
   "source": [
    "**Problem 1 Solution**\n",
    "\n"
   ],
   "metadata": {
    "id": "PjRp9nPaC56J"
   }
  },
  {
   "cell_type": "code",
   "execution_count": 38,
   "source": [
    "fib = [] # defining a list \n",
    "fib.append(1) # append is a builtin python function that can be used on lists. This will add the given element to the last place of the list \n",
    "fib.append(1) # The first two sequence elements\n",
    "\n",
    "n = 10 # The required last fibonacci number\n",
    "\n",
    "for i in range(2, n):\n",
    "  fib_i = fib[i-1] + fib[i-2] # calculate the i th fibonacci number\n",
    "  fib.append(fib_i)\n",
    "  print(\"{} th Fibonacci Number is : {}\".format(i, fib_i))"
   ],
   "outputs": [
    {
     "output_type": "stream",
     "name": "stdout",
     "text": [
      "2 th Fibonacci Number is : 2\n",
      "3 th Fibonacci Number is : 3\n",
      "4 th Fibonacci Number is : 5\n",
      "5 th Fibonacci Number is : 8\n",
      "6 th Fibonacci Number is : 13\n",
      "7 th Fibonacci Number is : 21\n",
      "8 th Fibonacci Number is : 34\n",
      "9 th Fibonacci Number is : 55\n"
     ]
    }
   ],
   "metadata": {
    "colab": {
     "base_uri": "https://localhost:8080/"
    },
    "id": "de1GWAQHNr6d",
    "outputId": "8c118c61-2663-4178-ea78-4a6120a01d42"
   }
  },
  {
   "cell_type": "markdown",
   "source": [
    "### **Problem 2**"
   ],
   "metadata": {
    "id": "YvL6ov4mdAJR"
   }
  },
  {
   "cell_type": "markdown",
   "source": [
    "In the previous code, we separately defined the initial conditions of the sequence manually. Try if you can work these two into a single for loop."
   ],
   "metadata": {
    "id": "IgpjUzN8dEYw"
   }
  },
  {
   "cell_type": "markdown",
   "source": [
    "**Problem 2 Solution**"
   ],
   "metadata": {
    "id": "97m-rVg9DDDo"
   }
  },
  {
   "cell_type": "code",
   "execution_count": 39,
   "source": [
    "fib = []\n",
    "n = 10\n",
    "for i in range(n):\n",
    "    if i < 2:\n",
    "        fib.append(1)\n",
    "    else:\n",
    "        fib.append(fib[i-1] + fib[i-2]) # append the fibonacci number to the list \n",
    "    #directly\n",
    "    fib_i = fib[-1] # negative index counts from the end!\n",
    "    print(\"{} th Fibonacci Number is : {}\".format(i, fib_i))"
   ],
   "outputs": [
    {
     "output_type": "stream",
     "name": "stdout",
     "text": [
      "0 th Fibonacci Number is : 1\n",
      "1 th Fibonacci Number is : 1\n",
      "2 th Fibonacci Number is : 2\n",
      "3 th Fibonacci Number is : 3\n",
      "4 th Fibonacci Number is : 5\n",
      "5 th Fibonacci Number is : 8\n",
      "6 th Fibonacci Number is : 13\n",
      "7 th Fibonacci Number is : 21\n",
      "8 th Fibonacci Number is : 34\n",
      "9 th Fibonacci Number is : 55\n"
     ]
    }
   ],
   "metadata": {
    "colab": {
     "base_uri": "https://localhost:8080/"
    },
    "id": "rkGouv1mBHgk",
    "outputId": "249e7bf9-2b0b-4522-ee14-f843c2554165"
   }
  },
  {
   "cell_type": "markdown",
   "source": [
    "### **Problem 2b**"
   ],
   "metadata": {}
  },
  {
   "cell_type": "markdown",
   "source": [
    "Refer to the lectures, and write a recursive function to find the k-th fibonacci number"
   ],
   "metadata": {}
  },
  {
   "cell_type": "markdown",
   "source": [
    "**Problem 2b Solution**"
   ],
   "metadata": {}
  },
  {
   "cell_type": "code",
   "execution_count": 3,
   "source": [
    "def fibonacci(k):\n",
    "    if k <= 1:\n",
    "        return k\n",
    "    else:\n",
    "        return fibonacci(k-1) + fibonacci(k-2)"
   ],
   "outputs": [],
   "metadata": {}
  },
  {
   "cell_type": "code",
   "execution_count": 4,
   "source": [
    "fibonacci(3)"
   ],
   "outputs": [
    {
     "output_type": "execute_result",
     "data": {
      "text/plain": [
       "2"
      ]
     },
     "metadata": {},
     "execution_count": 4
    }
   ],
   "metadata": {}
  },
  {
   "cell_type": "markdown",
   "source": [
    "### **Problem 3**"
   ],
   "metadata": {
    "id": "TFgYRFOddPDm"
   }
  },
  {
   "cell_type": "markdown",
   "source": [
    "Let's try to use a **for** loop inside a list definition to streamline code! The task is to generate a list of odd numbers within a given interval. Let $s$ be the floor of the interval and $e$ be the ceiling of the interval. Print out all the odd numbers within the interval $I = (s, e)$."
   ],
   "metadata": {
    "id": "6bpNlXeDdPyL"
   }
  },
  {
   "cell_type": "markdown",
   "source": [
    "**Problem 3 Solution**"
   ],
   "metadata": {
    "id": "pUi7OdYgFZsA"
   }
  },
  {
   "cell_type": "code",
   "execution_count": 40,
   "source": [
    "s = 13\n",
    "e = 25\n",
    "\n",
    "odd_list =[2 * i + 1 for i in range(s//2, e//2)] # We define the list, iterate through elements, perform operations in a single line!\n",
    "odd_list2 = [i for i in range (s, e) if i%2 == 1]\n",
    "\n",
    "print(odd_list)\n",
    "print(odd_list2)"
   ],
   "outputs": [
    {
     "output_type": "stream",
     "name": "stdout",
     "text": [
      "[13, 15, 17, 19, 21, 23]\n",
      "[13, 15, 17, 19, 21, 23]\n"
     ]
    }
   ],
   "metadata": {
    "colab": {
     "base_uri": "https://localhost:8080/"
    },
    "id": "QCp3ac-5FcJD",
    "outputId": "9f9f2163-49f8-4c04-86a4-ce080e884135"
   }
  },
  {
   "cell_type": "markdown",
   "source": [
    "### **Problem 4**"
   ],
   "metadata": {
    "id": "Zs_PlD7xdWhS"
   }
  },
  {
   "cell_type": "markdown",
   "source": [
    "Let's try to generate a list of even numbers, between 4 and 485, but, only the ones that are divisible by 7."
   ],
   "metadata": {
    "id": "4dctCdm6eBx2"
   }
  },
  {
   "cell_type": "markdown",
   "source": [
    "**Problem 4 Solution**"
   ],
   "metadata": {
    "id": "qLxf5jy8KHLr"
   }
  },
  {
   "cell_type": "code",
   "execution_count": 43,
   "source": [
    "s = 4\n",
    "e = 485\n",
    "\n",
    "even_list =[2 * i for i in range(s//2, e//2) if 2*i%7 == 0] # We define the list, iterate through elements, perform operations in a single line!\n",
    "\n",
    "print(even_list)"
   ],
   "outputs": [
    {
     "output_type": "stream",
     "name": "stdout",
     "text": [
      "[14, 28, 42, 56, 70, 84, 98, 112, 126, 140, 154, 168, 182, 196, 210, 224, 238, 252, 266, 280, 294, 308, 322, 336, 350, 364, 378, 392, 406, 420, 434, 448, 462, 476]\n"
     ]
    }
   ],
   "metadata": {
    "colab": {
     "base_uri": "https://localhost:8080/"
    },
    "id": "CC8EjEEaGto9",
    "outputId": "a421d9a5-fdab-4bca-ad55-399d2ea8820b"
   }
  },
  {
   "cell_type": "markdown",
   "source": [
    "### **Problem 5**"
   ],
   "metadata": {
    "id": "Ak4uWEdNeFrn"
   }
  },
  {
   "cell_type": "markdown",
   "source": [
    "Dictionary can be interpreted as a general form of list with \"key:value\" pairs where \"key\" is any hashable object instead of integer index in a list. Now let's see if we can construct a dictionary that divides the list in Problem 4 into three lists as values: \n",
    "\n",
    "\n",
    "- even numbers between $s$ and $e$ ($e>s>1$) that is divisible by 7, with the key \"even7\",\n",
    "- even numbers that are not divisible by 7, with the key \"even\", and \n",
    "- odd numbers, with the key \"odd\".\n",
    "\n",
    "**Note:** *Although not strictly a computational tool, dictionary data structure is very useful when writing highly readable code while organizing a lot of inputs or intermediate values for easy interpretation. These are heavily used in building web applications, where a dictionary (often multiple levels) is used to store a number of variables and associated values on a web form which is being sent to the back end servers. Later in this course, we will see how this helps us organise a code for optimising neural networks etc.*"
   ],
   "metadata": {
    "id": "gznnWeRNeFb-"
   }
  },
  {
   "cell_type": "markdown",
   "source": [
    "**Problem 5 Solution**"
   ],
   "metadata": {
    "id": "8ZcvTKeiEamy"
   }
  },
  {
   "cell_type": "code",
   "execution_count": 44,
   "source": [
    "s = 10\n",
    "e = 20\n",
    "\n",
    "all_numbers = {'odd':[], 'even':[], 'even7':[]} # initialize three empty lists as values for our keys.\n",
    "# all_numbers = dict.fromkeys(('odd', 'even', 'even7'))  # another way to initialize dict with keys and empty values\n",
    "\n",
    "for i in range(s, e):\n",
    "  if i % 2 == 0 :\n",
    "    if i % 7 == 0 :\n",
    "      all_numbers['even7'].append(i)\n",
    "    else:\n",
    "      all_numbers['even'].append(i)\n",
    "  else:\n",
    "    all_numbers['odd'].append(i)\n",
    "\n",
    "print(all_numbers)\n"
   ],
   "outputs": [
    {
     "output_type": "stream",
     "name": "stdout",
     "text": [
      "{'odd': [11, 13, 15, 17, 19], 'even': [10, 12, 16, 18], 'even7': [14]}\n"
     ]
    }
   ],
   "metadata": {
    "colab": {
     "base_uri": "https://localhost:8080/"
    },
    "id": "4VPxrb5jDEoz",
    "outputId": "616770c6-0126-42cf-e60c-bde16be979ad"
   }
  },
  {
   "cell_type": "markdown",
   "source": [
    "### **Problem 6**"
   ],
   "metadata": {
    "id": "v-R26dFfegov"
   }
  },
  {
   "cell_type": "markdown",
   "source": [
    "Let's get closer to Math. We can use lists to hold multi-dimensional data. A list of numbers of course can be considered to be a 'vector'. Let us try to write a python code to get the \"dot product\" of two vectors, a.k.a the scalar product. \n",
    "\n",
    "We define the dot product between two vectors $\\mathbf{x} = <x_1, x_2, ... x_n >$ and $\\mathbf{y} = < y_1, y_2, ..., y_n >$ as:\n",
    "\\begin{equation*}\n",
    "    \\mathbf{a.b} = \\sum_{i = 1}^n x_i\\times y_i\n",
    "\\end{equation*}\n",
    "\n",
    "Let's define two vectors $\\mathbf{a} = < 10, 2, 4 >$ and $\\mathbf{b} = < -2, 4, -20 >$. Let's write a python code to find this dot product. "
   ],
   "metadata": {
    "id": "my1_4Dnvegbk"
   }
  },
  {
   "cell_type": "markdown",
   "source": [
    "**Problem 6 Solution**"
   ],
   "metadata": {
    "id": "Co72DXlpQEKI"
   }
  },
  {
   "cell_type": "code",
   "execution_count": 45,
   "source": [
    "a = [ 10, 2, 4]\n",
    "b = [-2, 4, -20]\n",
    "\n",
    "# Both Vectors must be of same dimensionality. \n",
    "\n",
    "# Check vectors for length similarity\n",
    "\n",
    "if len(a) == len(b):\n",
    "  # now let's do the product\n",
    "  temp = 0 # temporary variable to hold the sum\n",
    "  for i in range(len(a)):\n",
    "    temp += a[i] * b[i]\n",
    "\n",
    "print(temp)"
   ],
   "outputs": [
    {
     "output_type": "stream",
     "name": "stdout",
     "text": [
      "-92\n"
     ]
    }
   ],
   "metadata": {
    "colab": {
     "base_uri": "https://localhost:8080/"
    },
    "id": "06_zJYbIQIWU",
    "outputId": "e2cceea1-5b51-48cd-b0a2-89cec35c7a5e"
   }
  },
  {
   "cell_type": "markdown",
   "source": [
    "### **Problem 7**"
   ],
   "metadata": {
    "id": "VgabJun7e0Uw"
   }
  },
  {
   "cell_type": "markdown",
   "source": [
    "Addition of two vectors can be defined in a similar manner. However, in this case the, output is a vector itself. \n",
    "\n",
    "Let's define the vector addition between same $\\mathbf{x}$ and $\\mathbf{y}$ which results in another vector $\\mathbf{z}$ as below:\n",
    "\n",
    "\\begin{equation*}\n",
    "    z_i = x_i + y_i\n",
    "\\end{equation*}\n",
    "\n",
    "Please attempt to write the code for this. Use the same $\\mathbf{a}$ and $\\mathbf{b}$ vectors as input. "
   ],
   "metadata": {
    "id": "Ybi9aElue2Ah"
   }
  },
  {
   "cell_type": "markdown",
   "source": [
    "**Problem 7 Solution**"
   ],
   "metadata": {
    "id": "2sf3rR-3TQuV"
   }
  },
  {
   "cell_type": "code",
   "execution_count": 46,
   "source": [
    "a = [ 10, 2, 4]\n",
    "b = [-2, 4, -20]\n",
    "\n",
    "\n",
    "if len(a) == len(b):\n",
    "  # now let's do the product\n",
    "  temp = [] # the output is a list itself. \n",
    "  for i in range(len(a)): \n",
    "    temp.append(a[i] + b[i])\n",
    "    print(temp)\n",
    "\n",
    "print(temp)"
   ],
   "outputs": [
    {
     "output_type": "stream",
     "name": "stdout",
     "text": [
      "[8]\n",
      "[8, 6]\n",
      "[8, 6, -16]\n",
      "[8, 6, -16]\n"
     ]
    }
   ],
   "metadata": {
    "colab": {
     "base_uri": "https://localhost:8080/"
    },
    "id": "7D76hs0cRJH-",
    "outputId": "f8846b0e-ff74-48db-bff9-2dd2ba72a1c5"
   }
  },
  {
   "cell_type": "markdown",
   "source": [
    "### **Problem 8**"
   ],
   "metadata": {
    "id": "cOitQ0ZJe72s"
   }
  },
  {
   "cell_type": "markdown",
   "source": [
    "Expanding this idea for vectors of vectors, we can work with matrices using lists. Lists can hold other lists as elements. Therefore, it can be looked at as a vector of vectors or in this case a matrix.\n",
    "\n",
    "For this problem, let's define two matrics $\\mathbf{A}$ and $\\mathbf{B}$ as below. \n",
    "\n",
    "\\begin{equation*}\n",
    "    \\mathbf{A} = \\begin{pmatrix} 2 & 3 \\\\ 1 & 2\\end{pmatrix}  \\\\  \n",
    "    \\mathbf{B} = \\begin{pmatrix} 10 & 23 \\\\ 4 & 8\\end{pmatrix}\n",
    "\\end{equation*}\n",
    "\n",
    "Now, let us find the matrix $\\mathbf{C} = \\mathbf{A} + \\mathbf{B}$, using the following code. "
   ],
   "metadata": {
    "id": "_LplIOt9e7j5"
   }
  },
  {
   "cell_type": "markdown",
   "source": [
    "**Problem 8 Solution**"
   ],
   "metadata": {
    "id": "0hAPRmJFTyfH"
   }
  },
  {
   "cell_type": "code",
   "execution_count": 47,
   "source": [
    "A = [ [2, 3] , [1, 2] ]\n",
    "B = [[10, 23], [4, 8]]\n",
    "C = [] # the outer list for the output\n",
    "# C = A +  B\n",
    "if len(A) == len(B) and len(A[0]) == len(B[0]): #again.. checking for dimension similarity\n",
    "  for i in range(len(A)):\n",
    "    c_i = [] # the inner list for the output\n",
    "    for j in range(len(A[0])):\n",
    "      c_i.append(A[i][j] + B[i][j])\n",
    "    C.append(c_i)\n",
    "print(C)"
   ],
   "outputs": [
    {
     "output_type": "stream",
     "name": "stdout",
     "text": [
      "[[12, 26], [5, 10]]\n"
     ]
    }
   ],
   "metadata": {
    "colab": {
     "base_uri": "https://localhost:8080/"
    },
    "id": "edL9hb50Tl3r",
    "outputId": "4561bb41-7dec-499b-fa45-1f6be2b9976f"
   }
  },
  {
   "cell_type": "markdown",
   "source": [
    "### **Problem 9**"
   ],
   "metadata": {
    "id": "6zd2QsbFnwUK"
   }
  },
  {
   "cell_type": "markdown",
   "source": [
    "Similarly, can we expand this to multiplying two matrices?\n",
    "matrix $\\mathbf{C} = \\mathbf{A} * \\mathbf{B}$"
   ],
   "metadata": {
    "id": "yRk5HmdXnwGm"
   }
  },
  {
   "cell_type": "markdown",
   "source": [
    "**Problem 9 Solution**"
   ],
   "metadata": {
    "id": "WScsbgaWbL_r"
   }
  },
  {
   "cell_type": "code",
   "execution_count": 48,
   "source": [
    "A = [[2, 3], [1, 2]]\n",
    "B = [[10, 23], [4, 8]]\n",
    "\n",
    "# C_ij = SUM A_ik * B_kj\n",
    "\n",
    "if( len(A) == len(B[0])):\n",
    "  C = [[0 for row in range(len(B[0]))] for col in range(len(A))] # For convenience, let's use list comprehension to generate placeholder for output\n",
    "  print (C)\n",
    "  for i in range(len(A)):\n",
    "    for j in range(len(B[0])):\n",
    "        for k in range(len(A[0])):\n",
    "            C[i][j] += A[i][k] * B[k][j] # Three nested loops for multiplying the two matrices\n",
    "            print(i, j, k, A[i][k] * B[k][j])\n",
    "  print(C)"
   ],
   "outputs": [
    {
     "output_type": "stream",
     "name": "stdout",
     "text": [
      "[[0, 0], [0, 0]]\n",
      "0 0 0 20\n",
      "0 0 1 12\n",
      "0 1 0 46\n",
      "0 1 1 24\n",
      "1 0 0 10\n",
      "1 0 1 8\n",
      "1 1 0 23\n",
      "1 1 1 16\n",
      "[[32, 70], [18, 39]]\n"
     ]
    }
   ],
   "metadata": {
    "colab": {
     "base_uri": "https://localhost:8080/"
    },
    "id": "NfMELkKCXe3R",
    "outputId": "785ba902-3ed1-48c8-ee9c-f5b4d16ef4d2"
   }
  },
  {
   "cell_type": "code",
   "execution_count": null,
   "source": [],
   "outputs": [],
   "metadata": {
    "id": "4Ed2LPAJzCgI"
   }
  }
 ],
 "metadata": {
  "colab": {
   "name": "ENGR30004_Week_1_Workshop.ipynb",
   "provenance": [],
   "toc_visible": true
  },
  "kernelspec": {
   "name": "python3",
   "display_name": "Python 3.7.3 64-bit"
  },
  "language_info": {
   "codemirror_mode": {
    "name": "ipython",
    "version": 3
   },
   "file_extension": ".py",
   "mimetype": "text/x-python",
   "name": "python",
   "nbconvert_exporter": "python",
   "pygments_lexer": "ipython3",
   "version": "3.7.3"
  },
  "interpreter": {
   "hash": "31f2aee4e71d21fbe5cf8b01ff0e069b9275f58929596ceb00d14d90e3e16cd6"
  }
 },
 "nbformat": 4,
 "nbformat_minor": 4
}