{
 "cells": [
  {
   "cell_type": "code",
   "execution_count": 20,
   "source": [
    "# q3\n",
    "# in_str = \"a1\"\n",
    "# ord(in_str[0])-96\n",
    "\n",
    "class chessborad:\n",
    "    def  __init__(self, x=0, y=0, dist=0):\n",
    "        self.x = x\n",
    "        self.y = y\n",
    "        self.dist = dist\n",
    "\n",
    "def isInside(x, y):\n",
    "    if (x >= 1 and x <= 8 and\n",
    "        y >= 1 and y <= 8):\n",
    "        return True\n",
    "    return False\n",
    "\n",
    "def minStep(knight, target):\n",
    "    dx = [1, 1, -1, -1, 2, 2, -2, -2]\n",
    "    dy = [2, -2, 2, -2, 1, -1, 1, -1]\n",
    "    \n",
    "    queue = []\n",
    "    queue.append(chessborad(knight[0], knight[1], 0))\n",
    "    visited = [[False for i in range(8+1)] for j in range(8+1)]\n",
    "\n",
    "    visited[knight[0]][knight[1]] = True\n",
    "\n",
    "    while len(queue) > 0:\n",
    "        t = queue[0]\n",
    "        queue.pop(0)\n",
    "\n",
    "        if (t.x == target[0] and t.y == target[1]):\n",
    "            return t.dist\n",
    "        \n",
    "        for i in range(8):\n",
    "            x = t.x + dx[i]\n",
    "            y = t.y + dy[i]\n",
    "\n",
    "            if (isInside(x, y) and not visited[x] [y]):\n",
    "                visited[x][y] = True\n",
    "                queue.append(chessborad(x, y, t.dist + 1))\n",
    "\n",
    "if __name__ == '__main__':\n",
    "    knight = [0 for i in range(2)]\n",
    "    target = [0 for i in range(2)]\n",
    "    f = open('q3_in.txt')\n",
    "    line1 = f.readline()\n",
    "    line2 = f.readline()\n",
    "    f.close()\n",
    "    knight[0] = ord(line1[0])-96\n",
    "    knight[1] = int(line1[1])\n",
    "    target[0] = ord(line2[0])-96\n",
    "    target[1] = int(line2[1])\n",
    "    f = open('q3_out.txt', 'w')\n",
    "    f.write(str(minStep(knight, target)))\n",
    "    f.close()\n"
   ],
   "outputs": [],
   "metadata": {}
  }
 ],
 "metadata": {
  "orig_nbformat": 4,
  "language_info": {
   "name": "python",
   "version": "3.7.3",
   "mimetype": "text/x-python",
   "codemirror_mode": {
    "name": "ipython",
    "version": 3
   },
   "pygments_lexer": "ipython3",
   "nbconvert_exporter": "python",
   "file_extension": ".py"
  },
  "kernelspec": {
   "name": "python3",
   "display_name": "Python 3.7.3 64-bit"
  },
  "interpreter": {
   "hash": "31f2aee4e71d21fbe5cf8b01ff0e069b9275f58929596ceb00d14d90e3e16cd6"
  }
 },
 "nbformat": 4,
 "nbformat_minor": 2
}