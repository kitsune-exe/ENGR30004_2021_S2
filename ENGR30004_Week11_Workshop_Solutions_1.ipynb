{
  "nbformat": 4,
  "nbformat_minor": 5,
  "metadata": {
    "colab": {
      "name": "ENGR30004_Week11_Workshop_Solutions_1.ipynb",
      "provenance": [],
      "toc_visible": true
    },
    "kernelspec": {
      "display_name": "Python 3",
      "language": "python",
      "name": "python3"
    },
    "language_info": {
      "codemirror_mode": {
        "name": "ipython",
        "version": 3
      },
      "file_extension": ".py",
      "mimetype": "text/x-python",
      "name": "python",
      "nbconvert_exporter": "python",
      "pygments_lexer": "ipython3",
      "version": "3.8.8"
    }
  },
  "cells": [
    {
      "cell_type": "markdown",
      "metadata": {
        "id": "bd7b27ea-120e-4a94-81ec-24638ee60b28"
      },
      "source": [
        "# ENGR30004\n",
        "\n",
        "## Week 11 - Shortest Path"
      ],
      "id": "bd7b27ea-120e-4a94-81ec-24638ee60b28"
    },
    {
      "cell_type": "markdown",
      "metadata": {
        "id": "629cc183-2d0f-4f32-99f1-ea4d18edf468"
      },
      "source": [
        "Last week, we looked at calculating the distance between two given nodes on a directed weighted graph. This week, we will look at obtaining the shortest path between two given nodes on a directed weighted graph.\n",
        "\n",
        "If time permits, we will also look at topological sorting."
      ],
      "id": "629cc183-2d0f-4f32-99f1-ea4d18edf468"
    },
    {
      "cell_type": "markdown",
      "metadata": {
        "id": "ebf4265f-5dda-4756-a0cf-eb4153fc286d"
      },
      "source": [
        "### Learning Objectives"
      ],
      "id": "ebf4265f-5dda-4756-a0cf-eb4153fc286d"
    },
    {
      "cell_type": "markdown",
      "metadata": {
        "id": "c42a6f3e-65f3-47bb-9ac8-8dbf24e6108f"
      },
      "source": [
        "- Shortest Path Calculations\n",
        "    - Understand the need for shortest path calculations\n",
        "    - Understand Dijkstra's Algorithm for calculating shortest path and it's complexities\n",
        "    - Understand where Dijkstra's Algorithm cannot be applied\n",
        "    \n",
        "- Topological Sorting\n",
        "    - Understand what is topological sorting\n",
        "    - Understand the use of DFS for achieving a topological sort of a given digraph"
      ],
      "id": "c42a6f3e-65f3-47bb-9ac8-8dbf24e6108f"
    },
    {
      "cell_type": "markdown",
      "metadata": {
        "id": "8bd5355a-b4fe-475d-906e-cab40bf99a56"
      },
      "source": [
        "### Problem 1: Dijkstra's Algorithm for Shortest Path"
      ],
      "id": "8bd5355a-b4fe-475d-906e-cab40bf99a56"
    },
    {
      "cell_type": "markdown",
      "metadata": {
        "id": "4e45393c-75a6-4174-b468-862ee9716696"
      },
      "source": [
        "<img alt=\"\" src=\"data:image/png;base64,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\">"
      ],
      "id": "4e45393c-75a6-4174-b468-862ee9716696"
    },
    {
      "cell_type": "markdown",
      "metadata": {
        "id": "e7f2b321-e865-4094-a91f-77681f1fdcf0"
      },
      "source": [
        "from: CS106B at Stanford"
      ],
      "id": "e7f2b321-e865-4094-a91f-77681f1fdcf0"
    },
    {
      "cell_type": "markdown",
      "metadata": {
        "id": "X7AXYLWxzOnr"
      },
      "source": [
        "From last week, we have the representation of this graph in both adjacency matrix and adjacency list formats."
      ],
      "id": "X7AXYLWxzOnr"
    },
    {
      "cell_type": "markdown",
      "metadata": {
        "id": "uMLlRb8scH7z"
      },
      "source": [
        "Use either of these representations (or a representation of your own) in your answers to the next two questions."
      ],
      "id": "uMLlRb8scH7z"
    },
    {
      "cell_type": "code",
      "metadata": {
        "id": "d0f4f74c-370e-412b-b9a9-1ff17c7a724e"
      },
      "source": [
        "# a=0, b=1, c=2, d=3, e=4, f=5, g=6, h=7\n",
        "\n",
        "#Unweighted representation\n",
        "al = [[1, 3, 4], #a\n",
        "      [4], #b\n",
        "      [], #c\n",
        "      [6, 7], #d\n",
        "      [5], #e\n",
        "      [2], #f\n",
        "      [7], #g\n",
        "      [4, 5], #h\n",
        "     ]\n",
        "\n",
        "#Weighted representation\n",
        "      #a, b, c, d, e, f, g, h \n",
        "am = [[0, 4, 0, 2, 7, 0, 0, 0], #a\n",
        "      [0, 0, 0, 0, 2, 0, 0, 0], #b\n",
        "      [0, 0, 0, 0, 4, 0, 0, 0], #c\n",
        "      [0, 0, 0, 0, 0, 0, 1, 4], #d\n",
        "      [0, 0, 0, 0, 0, 2, 0, 0], #e\n",
        "      [0, 0, 1, 0, 0, 0, 0, 0], #f\n",
        "      [0, 0, 0, 0, 0, 0, 0, 2], #g\n",
        "      [0, 0, 0, 0, 5, 1, 0, 0], #h\n",
        "     ]"
      ],
      "id": "d0f4f74c-370e-412b-b9a9-1ff17c7a724e",
      "execution_count": null,
      "outputs": []
    },
    {
      "cell_type": "markdown",
      "metadata": {
        "id": "5e615fe7-7ffc-49fa-a5c0-97873000cd5c"
      },
      "source": [
        "Write a dijkstra's algorithm implementation to find the shortest path between two given nodes, for a weighted digraph."
      ],
      "id": "5e615fe7-7ffc-49fa-a5c0-97873000cd5c"
    },
    {
      "cell_type": "code",
      "metadata": {
        "id": "139b7e8d-9082-487b-9bd5-e4b8e2dcd46d"
      },
      "source": [
        "def dijkstras(start, end, graph):\n",
        "    queue = [i for i in range(len(graph))]\n",
        "    print(queue)\n",
        "    distances = [10000]*len(graph)\n",
        "    previous = [None]*len(graph)\n",
        "    \n",
        "    distances[start] = 0\n",
        "    \n",
        "    while queue:\n",
        "        \n",
        "        u_dist = 10000\n",
        "        #find index with the minimum distance\n",
        "        for i in queue:\n",
        "            if distances[i] < u_dist:\n",
        "                u_dist = distances[i]\n",
        "                u = i\n",
        "        \n",
        "        print(u, queue)\n",
        "        queue.remove(u)\n",
        "        \n",
        "        for k in range(len(graph)):\n",
        "            if(graph[u][k] > 0 and k in queue):\n",
        "                alt = distances[u] + graph[u][k]\n",
        "                if alt < distances[k]:\n",
        "                    distances[k] = alt\n",
        "                    previous[k] = u\n",
        "                    \n",
        "    return distances, previous\n",
        "    "
      ],
      "id": "139b7e8d-9082-487b-9bd5-e4b8e2dcd46d",
      "execution_count": null,
      "outputs": []
    },
    {
      "cell_type": "code",
      "metadata": {
        "id": "c26c54cc-3119-496e-9e97-d1d7395ae25c",
        "outputId": "d2009100-2494-43ce-a4eb-f354853f2469"
      },
      "source": [
        "dijkstras(0, 7, am)"
      ],
      "id": "c26c54cc-3119-496e-9e97-d1d7395ae25c",
      "execution_count": null,
      "outputs": [
        {
          "name": "stdout",
          "output_type": "stream",
          "text": [
            "[0, 1, 2, 3, 4, 5, 6, 7]\n",
            "0 [0, 1, 2, 3, 4, 5, 6, 7]\n",
            "3 [1, 2, 3, 4, 5, 6, 7]\n",
            "6 [1, 2, 4, 5, 6, 7]\n",
            "1 [1, 2, 4, 5, 7]\n",
            "7 [2, 4, 5, 7]\n",
            "4 [2, 4, 5]\n",
            "5 [2, 5]\n",
            "2 [2]\n"
          ]
        },
        {
          "data": {
            "text/plain": [
              "([0, 4, 7, 2, 6, 6, 3, 5], [None, 0, 5, 0, 1, 7, 3, 6])"
            ]
          },
          "execution_count": 40,
          "metadata": {},
          "output_type": "execute_result"
        }
      ]
    },
    {
      "cell_type": "markdown",
      "metadata": {
        "id": "ffc8bc6f-2749-4d15-bcdf-04e319552f41"
      },
      "source": [
        "### Problem 2: Topological Sorting"
      ],
      "id": "ffc8bc6f-2749-4d15-bcdf-04e319552f41"
    },
    {
      "cell_type": "markdown",
      "metadata": {
        "id": "1c57352a-fdbd-4090-9b6f-5e3d98da9dd8"
      },
      "source": [
        "<img alt=\"\" src=\"data:image/png;base64,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\">"
      ],
      "id": "1c57352a-fdbd-4090-9b6f-5e3d98da9dd8"
    },
    {
      "cell_type": "markdown",
      "metadata": {
        "id": "ece9accc-c4fd-4ca0-9389-4c53d2b77fa4"
      },
      "source": [
        "Find a topological sorting for this graph. (Please remove the edge from `c` to `e` -- in order to remove the cycle)"
      ],
      "id": "ece9accc-c4fd-4ca0-9389-4c53d2b77fa4"
    },
    {
      "cell_type": "code",
      "metadata": {
        "id": "230e1c3f-0cac-4781-b7e6-69446d6e25d5"
      },
      "source": [
        ""
      ],
      "id": "230e1c3f-0cac-4781-b7e6-69446d6e25d5",
      "execution_count": null,
      "outputs": []
    }
  ]
}