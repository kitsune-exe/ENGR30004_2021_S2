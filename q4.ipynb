{
 "cells": [
  {
   "cell_type": "code",
   "execution_count": 43,
   "metadata": {},
   "outputs": [],
   "source": [
    "# q4\n",
    "import heapq\n",
    "\n",
    "def submitPrint(lines, employeeList):\n",
    "    count = 0\n",
    "    f = open('q4_out.txt', 'w')\n",
    "    for i in range(3, len(lines)):\n",
    "        inputline = lines[i].split(\" \")\n",
    "        if int(inputline[0]) == 1:\n",
    "            # newEmployee: (job level(int), input ouder(int), job number(str))\n",
    "            # priority of elements: job level > input order\n",
    "            newEmployee = (int(inputline[1][1]), count, int(inputline[2]))\n",
    "            # heapq.heappush will push the element to the designated list\n",
    "            # and automatically heapify\n",
    "            heapq.heappush(employeeList, newEmployee)\n",
    "            count += 1\n",
    "        elif int(inputline[0]) == 2:\n",
    "            # heapq.heappop will pop the smallest element (default) in the list\n",
    "            # and automatically heapify\n",
    "            f.write(str(heapq.heappop(employeeList)[2]))\n",
    "            if (i < len(lines)-1):\n",
    "                f.write('\\n')\n",
    "    f.close()\n",
    "\n",
    "def main():\n",
    "    N = 0\n",
    "    p = 0\n",
    "    q = 0\n",
    "    lines = []\n",
    "    employeeList = []\n",
    "    heapq.heapify(employeeList)\n",
    "\n",
    "    f = open('q4_in.txt', 'r')\n",
    "    lines = f.readlines()\n",
    "    f.close()\n",
    "    N = int(lines[0])\n",
    "    p = int(lines[1])\n",
    "    q = int(lines[2])\n",
    "\n",
    "    if N < 1 or N > 100:\n",
    "        raise ValueError\n",
    "\n",
    "    if p < 1 or p >= 100:\n",
    "        raise ValueError\n",
    "\n",
    "    if q < 1 or q >= 100:\n",
    "        raise ValueError\n",
    "\n",
    "    if (p + q) != N:\n",
    "        raise ValueError\n",
    "\n",
    "    try:\n",
    "        submitPrint(lines, employeeList)\n",
    "    except (ValueError, IOError):\n",
    "        pass\n",
    "\n",
    "if __name__ == '__main__':\n",
    "    main()\n"
   ]
  }
 ],
 "metadata": {
  "interpreter": {
   "hash": "31f2aee4e71d21fbe5cf8b01ff0e069b9275f58929596ceb00d14d90e3e16cd6"
  },
  "kernelspec": {
   "display_name": "Python 3.8.9 64-bit",
   "name": "python3"
  },
  "language_info": {
   "codemirror_mode": {
    "name": "ipython",
    "version": 3
   },
   "file_extension": ".py",
   "mimetype": "text/x-python",
   "name": "python",
   "nbconvert_exporter": "python",
   "pygments_lexer": "ipython3",
   "version": "3.8.9"
  },
  "orig_nbformat": 4
 },
 "nbformat": 4,
 "nbformat_minor": 2
}
