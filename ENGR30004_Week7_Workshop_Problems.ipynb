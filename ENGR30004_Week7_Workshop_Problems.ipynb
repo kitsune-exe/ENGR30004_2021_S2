{
 "cells": [
  {
   "cell_type": "markdown",
   "id": "bd7b27ea-120e-4a94-81ec-24638ee60b28",
   "metadata": {
    "id": "bd7b27ea-120e-4a94-81ec-24638ee60b28"
   },
   "source": [
    "# ENGR30004\n",
    "\n",
    "## Week 7 - Intermediate Data Structures"
   ]
  },
  {
   "cell_type": "markdown",
   "id": "629cc183-2d0f-4f32-99f1-ea4d18edf468",
   "metadata": {
    "id": "629cc183-2d0f-4f32-99f1-ea4d18edf468"
   },
   "source": [
    "Today, we will be looking at Hashtables and Sets"
   ]
  },
  {
   "cell_type": "markdown",
   "id": "ebf4265f-5dda-4756-a0cf-eb4153fc286d",
   "metadata": {
    "id": "ebf4265f-5dda-4756-a0cf-eb4153fc286d"
   },
   "source": [
    "### Learning Objectives"
   ]
  },
  {
   "cell_type": "markdown",
   "id": "c42a6f3e-65f3-47bb-9ac8-8dbf24e6108f",
   "metadata": {
    "id": "c42a6f3e-65f3-47bb-9ac8-8dbf24e6108f"
   },
   "source": [
    "- Implementing a Hashtable suitable for a real-life problem (Problem 1)\n",
    "    - Figure out how to use a python list to implement the functionality of a hashtable.\n",
    "    - Understand hash-functions, and create a basic hashfunction for a simple real-life scenario.\n",
    "    - Understand hash-collissions, and how to handle them effectively.\n",
    "    - Be able to compare and contrast different implementations for hashfunctions and collission hadnling.\n",
    "    \n",
    "- Using a Set (Problem 2)\n",
    "    - Identify problems where Sets are useful.\n",
    "    - Familiarise with basic Set functions."
   ]
  },
  {
   "cell_type": "markdown",
   "id": "8bd5355a-b4fe-475d-906e-cab40bf99a56",
   "metadata": {
    "id": "8bd5355a-b4fe-475d-906e-cab40bf99a56"
   },
   "source": [
    "### Problem 1: Hashtables"
   ]
  },
  {
   "cell_type": "markdown",
   "id": "X7AXYLWxzOnr",
   "metadata": {
    "id": "X7AXYLWxzOnr"
   },
   "source": [
    "We will learn how to use hashtables through a real-life example.\n",
    "\n",
    "Imagine you are collecting the data for a university. Not to complicate the example, you are collecting student `ID numbers`, and corresponding `names`.\n",
    "\n",
    "The ID numbers are of the format `XXXXXX C`, where an `X` stands for a digit from `[0-9]` (inclusive), and `C` stands for an uppercase letter `[A-Z]` (inclusive).\n",
    "\n",
    "Eg: `529401 F`\n",
    "\n",
    "Assume that you have a large collection of data, and that you need to look up the names of students with a given ID number. (Given in `student_records.txt` file)"
   ]
  },
  {
   "cell_type": "markdown",
   "id": "uMLlRb8scH7z",
   "metadata": {
    "id": "uMLlRb8scH7z"
   },
   "source": [
    "#### Hash function"
   ]
  },
  {
   "cell_type": "markdown",
   "id": "c40f309f-cb2e-49ce-b91b-d341618be634",
   "metadata": {},
   "source": [
    "Create a hash function suitable for the given problem. (If you can separate the hash function into a hashcode, and a compression function)."
   ]
  },
  {
   "cell_type": "code",
   "execution_count": 37,
   "id": "ACKpv-9IJx8B",
   "metadata": {
    "id": "ACKpv-9IJx8B"
   },
   "outputs": [],
   "source": []
  },
  {
   "cell_type": "code",
   "execution_count": 38,
   "id": "ac7289ec-55a5-407e-809c-634e85622fbc",
   "metadata": {},
   "outputs": [],
   "source": []
  },
  {
   "cell_type": "code",
   "execution_count": 70,
   "id": "1609ead4-5a24-466c-9055-6ebd5a37efb3",
   "metadata": {},
   "outputs": [],
   "source": []
  },
  {
   "cell_type": "code",
   "execution_count": 24,
   "id": "9943939d-8364-4ad8-8cd5-2a679589cf7a",
   "metadata": {},
   "outputs": [],
   "source": [
    "#hf1(\"529401 F\")"
   ]
  },
  {
   "cell_type": "code",
   "execution_count": 25,
   "id": "1128b4c0-3858-470f-af50-c1cafceca800",
   "metadata": {},
   "outputs": [],
   "source": [
    "#hf2(\"529401 F\")"
   ]
  },
  {
   "cell_type": "code",
   "execution_count": 26,
   "id": "13545217-7343-42ec-b3cc-4f43b44d9aa1",
   "metadata": {},
   "outputs": [],
   "source": [
    "#hf3(\"839554 M\")"
   ]
  },
  {
   "cell_type": "markdown",
   "id": "5dh-lLU5JFVs",
   "metadata": {
    "id": "5dh-lLU5JFVs"
   },
   "source": [
    "#### Hashtable"
   ]
  },
  {
   "cell_type": "markdown",
   "id": "efbdffd9-d406-43b1-96a4-8f87fd0ee455",
   "metadata": {},
   "source": [
    "Implement a crude version of a hashtable using python lists. Use the skeleton given below.\n",
    "\n",
    "How will you handle the hash colissions? (Implement one stratergy you learnt in the class)"
   ]
  },
  {
   "cell_type": "code",
   "execution_count": 11,
   "id": "OqQxWWzGaw0K",
   "metadata": {
    "id": "OqQxWWzGaw0K"
   },
   "outputs": [],
   "source": [
    "# Without collission handling\n",
    "class Hashtable:\n",
    "    \n",
    "    def __init__(self):\n",
    "        pass\n",
    "    \n",
    "    def insert(self, key, value):\n",
    "        pass\n",
    "    \n",
    "    def search(self, key):\n",
    "        pass\n",
    "    \n",
    "    def count(self):\n",
    "        pass\n",
    "    \n",
    "    def remove(self, key):\n",
    "        pass\n"
   ]
  },
  {
   "cell_type": "code",
   "execution_count": null,
   "id": "74744975-2ba3-4376-bf62-6c656ba805a7",
   "metadata": {},
   "outputs": [],
   "source": [
    "\n"
   ]
  },
  {
   "cell_type": "markdown",
   "id": "FthFVPQnK-lg",
   "metadata": {
    "id": "FthFVPQnK-lg"
   },
   "source": [
    "Test your solution by testing it against `student_records.txt` file."
   ]
  },
  {
   "cell_type": "code",
   "execution_count": 12,
   "id": "d1ad64ad-3063-4f50-90b0-71b0674f4564",
   "metadata": {},
   "outputs": [],
   "source": [
    "ht = Hashtable()"
   ]
  },
  {
   "cell_type": "code",
   "execution_count": 13,
   "id": "H7HLdtUbtrp4",
   "metadata": {
    "id": "H7HLdtUbtrp4"
   },
   "outputs": [
    {
     "name": "stdout",
     "output_type": "stream",
     "text": [
      "839554 M Michael\n",
      "857000 X Christopher\n",
      "340118 L Jessica\n",
      "199760 L Matthew\n",
      "387025 Y Ashley\n",
      "719977 H Jennifer\n",
      "308335 V Joshua\n",
      "983106 F Amanda\n",
      "618587 E Daniel\n",
      "693671 O David\n",
      "910524 R James\n",
      "737903 K Robert\n",
      "146971 Q John\n",
      "415442 H Joseph\n",
      "469007 D Andrew\n",
      "180166 D Ryan\n",
      "819207 V Brandon\n",
      "279847 Y Jason\n",
      "594450 O Justin\n",
      "747579 X Sarah\n",
      "576519 H William\n",
      "244644 Z Jonathan\n",
      "397033 S Stephanie\n",
      "374357 G Brian\n",
      "618581 R Nicole\n",
      "728758 K Nicholas\n",
      "839883 Y Anthony\n",
      "218661 T Heather\n",
      "430472 M Eric\n",
      "777329 K Elizabeth\n",
      "222913 D Adam\n",
      "302859 O Megan\n",
      "191094 F Melissa\n",
      "972734 O Kevin\n",
      "593442 Q Steven\n",
      "621176 W Thomas\n",
      "900308 H Timothy\n",
      "491176 I Christina\n",
      "740845 K Kyle\n",
      "569451 T Rachel\n"
     ]
    }
   ],
   "source": [
    "f = open(\"student_records.txt\", 'r')\n",
    "\n",
    "for i in range(40):\n",
    "    line = f.readline()\n",
    "    line = line.split(' ')\n",
    "    key = line[0] + \" \" + line[1]\n",
    "    val = line[2][:-1]\n",
    "    print(key + \" \" + val)\n",
    "    \n",
    "    ht.insert(key, val)\n",
    "    \n",
    "f.close()"
   ]
  },
  {
   "cell_type": "code",
   "execution_count": 14,
   "id": "d1b2f3a5-87e4-40c6-ab75-7cd49e23e025",
   "metadata": {
    "tags": []
   },
   "outputs": [],
   "source": [
    "ht.search(\"191094 F\")"
   ]
  },
  {
   "cell_type": "code",
   "execution_count": 15,
   "id": "89dcb0d3-1e2b-4120-a741-e9cd00573c57",
   "metadata": {},
   "outputs": [],
   "source": [
    "ht.search(\"983106 F\")"
   ]
  },
  {
   "cell_type": "code",
   "execution_count": 16,
   "id": "58db88d4-9b3a-4a4b-8684-27dbaec93d8f",
   "metadata": {},
   "outputs": [],
   "source": [
    "ht.search(\"308335 V\")"
   ]
  },
  {
   "cell_type": "code",
   "execution_count": 17,
   "id": "0f6878db-993a-48d4-a67b-4feb329c8c2a",
   "metadata": {},
   "outputs": [],
   "source": [
    "ht.search(\"308335 A\")"
   ]
  },
  {
   "cell_type": "code",
   "execution_count": 18,
   "id": "7945b28c-3df7-40b3-b84e-5b0b03fb00c6",
   "metadata": {},
   "outputs": [],
   "source": [
    "ht.count()"
   ]
  },
  {
   "cell_type": "markdown",
   "id": "944193c9-c4ce-4dd5-9b18-4dbcad6f9288",
   "metadata": {},
   "source": [
    "#### Hashtables Using Python Standard Library"
   ]
  },
  {
   "cell_type": "markdown",
   "id": "968b38b5-28d7-4dc3-8c0c-29558cfa5dde",
   "metadata": {},
   "source": [
    "Implement the same solution using a python dictionary."
   ]
  },
  {
   "cell_type": "markdown",
   "id": "ffc8bc6f-2749-4d15-bcdf-04e319552f41",
   "metadata": {},
   "source": [
    "### Problem 2: Sets"
   ]
  },
  {
   "cell_type": "markdown",
   "id": "6e4217e7-ab86-47f0-9d26-9b626c39c372",
   "metadata": {},
   "source": [
    "Let us explore sets while solving a programming question. We will be using sets from python standard library.\n",
    "\n",
    "https://docs.python.org/3/tutorial/datastructures.html#sets"
   ]
  },
  {
   "cell_type": "markdown",
   "id": "e974ef9e-11a1-427a-8795-d1df6ad94e81",
   "metadata": {},
   "source": [
    "The following data are the winning Powerball numbers for some draws. (Don't gamble, btw!)"
   ]
  },
  {
   "cell_type": "markdown",
   "id": "5ebf1c1d-d225-4fa3-9c79-3eea8d016fdd",
   "metadata": {},
   "source": [
    "**August**\n",
    "\n",
    "**Draw 1:**\n",
    "28\n",
    "25\n",
    "10\n",
    "27\n",
    "14\n",
    "11\n",
    "32\n",
    "6\n",
    "\n",
    "**Draw 2:**\n",
    "26\n",
    "7\n",
    "9\n",
    "10\n",
    "2\n",
    "30\n",
    "8\n",
    "3\n",
    "\n",
    "**Draw 3:**\n",
    "17\n",
    "10\n",
    "4\n",
    "26\n",
    "19\n",
    "23\n",
    "21\n",
    "7\n",
    "\n",
    "**Draw 4:**\n",
    "16\n",
    "25\n",
    "12\n",
    "7\n",
    "11\n",
    "10\n",
    "21\n",
    "18\n",
    "\n"
   ]
  },
  {
   "cell_type": "markdown",
   "id": "e1dd7dbd-b6fa-472e-a542-5f65618ae926",
   "metadata": {},
   "source": [
    "**July**\n",
    "\n",
    "**Draw 1:**\n",
    "23\n",
    "26\n",
    "7\n",
    "4\n",
    "33\n",
    "35\n",
    "22\n",
    "17\n",
    "\n",
    "**Draw 2:**\n",
    "28\n",
    "25\n",
    "15\n",
    "13\n",
    "20\n",
    "29\n",
    "16\n",
    "11\n",
    "\n",
    "**Draw 3:**\n",
    "25\n",
    "32\n",
    "17\n",
    "16\n",
    "3\n",
    "11\n",
    "26\n",
    "2\n",
    "\n",
    "**Draw 4:**\n",
    "7\n",
    "8\n",
    "17\n",
    "9\n",
    "19\n",
    "32\n",
    "15\n",
    "6\n",
    "\n",
    "**Draw 5:**\n",
    "13\n",
    "19\n",
    "18\n",
    "17\n",
    "11\n",
    "16\n",
    "20\n",
    "15\n",
    "\n",
    "\n"
   ]
  },
  {
   "cell_type": "markdown",
   "id": "aad04f11-702b-4ccf-8bb7-2190f04eb601",
   "metadata": {},
   "source": [
    "Answer the following questions, with the use of Sets"
   ]
  },
  {
   "cell_type": "markdown",
   "id": "496a7ab1-64e0-4e9e-8198-965faa07cba0",
   "metadata": {},
   "source": [
    "1. Which balls were drawn in August?"
   ]
  },
  {
   "cell_type": "code",
   "execution_count": null,
   "id": "09dbeb76-d4b4-471e-83ba-3bb8d2c286b5",
   "metadata": {},
   "outputs": [],
   "source": []
  },
  {
   "cell_type": "markdown",
   "id": "dd9fd6ae-de89-434b-9f54-a2b0910165be",
   "metadata": {},
   "source": [
    "2. Which balls were drawn in July?"
   ]
  },
  {
   "cell_type": "code",
   "execution_count": null,
   "id": "aba837f9-5aa1-418f-a60b-9945f80a9c69",
   "metadata": {},
   "outputs": [],
   "source": []
  },
  {
   "cell_type": "markdown",
   "id": "cbe7ab1e-6230-430f-8f38-a8cf1e251b0f",
   "metadata": {},
   "source": [
    "3. How many unique balls were drawn in each month?"
   ]
  },
  {
   "cell_type": "code",
   "execution_count": null,
   "id": "986228f5-5ce7-4024-b5c2-b10a14825fba",
   "metadata": {},
   "outputs": [],
   "source": []
  },
  {
   "cell_type": "markdown",
   "id": "1ccc9590-1828-42aa-ba9d-398b6279417e",
   "metadata": {},
   "source": [
    "4. Which balls were drawn in both August and July?"
   ]
  },
  {
   "cell_type": "code",
   "execution_count": null,
   "id": "f09c8cc1-54a0-4d5d-b370-02e49beb89d2",
   "metadata": {},
   "outputs": [],
   "source": []
  },
  {
   "cell_type": "markdown",
   "id": "1dcabd63-d4a7-43eb-9def-b29ba15991c1",
   "metadata": {},
   "source": [
    "5. Which balls were drawn in August, but not in July? and which balls were drawn in July, but not in August?"
   ]
  },
  {
   "cell_type": "code",
   "execution_count": null,
   "id": "248f8173-d7f0-4b06-a0fd-8a182fbacf89",
   "metadata": {},
   "outputs": [],
   "source": []
  },
  {
   "cell_type": "markdown",
   "id": "cf218b8f-c42e-48d5-ab3a-f894bf85ceba",
   "metadata": {},
   "source": [
    "If you have completed the exercies, go back and implement a different hashfunction or a collission handling mechanism."
   ]
  },
  {
   "cell_type": "code",
   "execution_count": null,
   "id": "817a63b9-6041-4759-8265-4a15087f33ab",
   "metadata": {},
   "outputs": [],
   "source": []
  }
 ],
 "metadata": {
  "colab": {
   "name": "[NEW]ENGR30004_Week6_Workshop_Problems_Solutions.ipynb",
   "provenance": []
  },
  "kernelspec": {
   "display_name": "Python 3",
   "language": "python",
   "name": "python3"
  },
  "language_info": {
   "codemirror_mode": {
    "name": "ipython",
    "version": 3
   },
   "file_extension": ".py",
   "mimetype": "text/x-python",
   "name": "python",
   "nbconvert_exporter": "python",
   "pygments_lexer": "ipython3",
   "version": "3.8.10"
  }
 },
 "nbformat": 4,
 "nbformat_minor": 5
}
