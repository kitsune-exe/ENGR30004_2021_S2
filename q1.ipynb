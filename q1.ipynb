{
 "cells": [
  {
   "cell_type": "code",
   "execution_count": 1,
   "source": [
    "# q1\n",
    "\n",
    "# iterative: time complexity -> O(n)\n",
    "def lucas(n):\n",
    "    a = 2\n",
    "    b = 1\n",
    "    if (n == 1):\n",
    "        return a\n",
    "    elif (n == 2):\n",
    "        return b\n",
    "        \n",
    "    for i in range(2, n):\n",
    "        c = a + b\n",
    "        a = b\n",
    "        b = c \n",
    "    return b\n",
    "\n",
    "# recursive: time complexity -> exponential\n",
    "# def lucas(n):\n",
    "#     if n == 1:\n",
    "#         return 2\n",
    "#     elif n == 2:\n",
    "#         return 1\n",
    "#     else:\n",
    "#         return lucas(n - 1) + lucas(n - 2)\n",
    "        \n",
    "def main():\n",
    "    lines = []\n",
    "    n = 0\n",
    "\n",
    "    f = open('q1_in.txt')\n",
    "    lines = f.readlines()\n",
    "    f.close()\n",
    "\n",
    "\n",
    "    for i in range(len(lines)):\n",
    "        if i == 0:\n",
    "            n = int(lines[i])\n",
    "            arr = [0 for j in range(n)]\n",
    "        else:\n",
    "            arr[i-1] = int(lines[i])\n",
    "\n",
    "    if not isinstance(arr, list):\n",
    "        raise TypeError\n",
    "    else:\n",
    "        arr = list(reversed(arr))\n",
    "\n",
    "    if n <= 1 or n >= 100:\n",
    "        raise ValueError\n",
    "\n",
    "    try:\n",
    "        f = open('q1_out.txt', 'w')\n",
    "        for i in range(len(arr)):\n",
    "            f.write(str(lucas(arr[i])))\n",
    "            f.write('\\n')\n",
    "        f.close()\n",
    "\n",
    "    except (TypeError, ValueError):\n",
    "        pass\n",
    "\n",
    "if __name__ == '__main__':\n",
    "    main()"
   ],
   "outputs": [],
   "metadata": {}
  }
 ],
 "metadata": {
  "orig_nbformat": 4,
  "language_info": {
   "name": "python",
   "version": "3.8.9",
   "mimetype": "text/x-python",
   "codemirror_mode": {
    "name": "ipython",
    "version": 3
   },
   "pygments_lexer": "ipython3",
   "nbconvert_exporter": "python",
   "file_extension": ".py"
  },
  "kernelspec": {
   "name": "python3",
   "display_name": "Python 3.8.9 64-bit"
  },
  "interpreter": {
   "hash": "31f2aee4e71d21fbe5cf8b01ff0e069b9275f58929596ceb00d14d90e3e16cd6"
  }
 },
 "nbformat": 4,
 "nbformat_minor": 2
}