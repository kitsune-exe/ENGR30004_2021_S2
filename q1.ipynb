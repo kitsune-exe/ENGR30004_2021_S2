{
 "cells": [
  {
   "cell_type": "code",
   "execution_count": 1,
   "metadata": {},
   "outputs": [],
   "source": [
    "# q1\n",
    "\n",
    "# iterative: time complexity -> O(n)\n",
    "def lucas(n):\n",
    "    a = 2\n",
    "    b = 1\n",
    "    if (n == 1):\n",
    "        return a\n",
    "    elif (n == 2):\n",
    "        return b\n",
    "        \n",
    "    for i in range(2, n):\n",
    "        c = a + b\n",
    "        a = b\n",
    "        b = c \n",
    "    return b\n",
    "\n",
    "# recursive: time complexity -> exponential\n",
    "# def lucas(n):\n",
    "#     if n == 1:\n",
    "#         return 2\n",
    "#     elif n == 2:\n",
    "#         return 1\n",
    "#     else:\n",
    "#         return lucas(n - 1) + lucas(n - 2)\n",
    "        \n",
    "def main():\n",
    "    lines = []\n",
    "    n = 0\n",
    "\n",
    "    f = open('q1_in.txt')\n",
    "    lines = f.readlines()\n",
    "    f.close()\n",
    "\n",
    "\n",
    "    for i in range(len(lines)):\n",
    "        if i == 0:\n",
    "            n = int(lines[i])\n",
    "            arr = [0 for j in range(n)]\n",
    "        else:\n",
    "            arr[i-1] = int(lines[i])\n",
    "\n",
    "    if not isinstance(arr, list):\n",
    "        raise TypeError\n",
    "    else:\n",
    "        arr = list(reversed(arr))\n",
    "\n",
    "    if n <= 1 or n >= 100:\n",
    "        raise ValueError\n",
    "\n",
    "    try:\n",
    "        f = open('q1_out.txt', 'w')\n",
    "        for i in range(len(arr)):\n",
    "            f.write(str(lucas(arr[i])))\n",
    "            f.write('\\n')\n",
    "        f.close()\n",
    "\n",
    "    except (TypeError, ValueError):\n",
    "        pass\n",
    "\n",
    "if __name__ == '__main__':\n",
    "    main()"
   ]
  }
 ],
 "metadata": {
  "interpreter": {
   "hash": "31f2aee4e71d21fbe5cf8b01ff0e069b9275f58929596ceb00d14d90e3e16cd6"
  },
  "kernelspec": {
   "display_name": "Python 3.8.9 64-bit",
   "name": "python3"
  },
  "language_info": {
   "codemirror_mode": {
    "name": "ipython",
    "version": 3
   },
   "file_extension": ".py",
   "mimetype": "text/x-python",
   "name": "python",
   "nbconvert_exporter": "python",
   "pygments_lexer": "ipython3",
   "version": "3.8.9"
  },
  "orig_nbformat": 4
 },
 "nbformat": 4,
 "nbformat_minor": 2
}
