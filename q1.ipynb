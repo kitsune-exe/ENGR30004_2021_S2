{
 "cells": [
  {
   "cell_type": "code",
   "execution_count": 15,
   "source": [
    "# q2\n",
    "\n",
    "def lucas(n, arr):\n",
    "    if n == 1:\n",
    "        return 2\n",
    "    elif n == 2:\n",
    "        return 1\n",
    "    else:\n",
    "        return (lucas(n-1, arr) + lucas(n-2, arr))\n",
    "        \n",
    "    \n",
    "lines = []\n",
    "n = 0\n",
    "\n",
    "f = open('q1_in.txt')\n",
    "lines = f.readlines()\n",
    "f.close()\n",
    "\n",
    "\n",
    "for i in range(len(lines)):\n",
    "    if i == 0:\n",
    "        n = int(lines[i])\n",
    "        arr = [0 for j in range(n)]\n",
    "    else:\n",
    "        arr[i-1] = int(lines[i])\n",
    "\n",
    "if not isinstance(arr, list):\n",
    "    raise TypeError\n",
    "else:\n",
    "    arr = list(reversed(arr))\n",
    "\n",
    "if n <= 1 or n >= 100:\n",
    "    raise ValueError\n",
    "\n",
    "try:\n",
    "    for i in arr:\n",
    "        print(lucas(i, arr))\n",
    "\n",
    "except (TypeError, ValueError):\n",
    "    pass\n",
    "\n"
   ],
   "outputs": [
    {
     "output_type": "stream",
     "name": "stdout",
     "text": [
      "7\n",
      "1\n"
     ]
    }
   ],
   "metadata": {}
  }
 ],
 "metadata": {
  "orig_nbformat": 4,
  "language_info": {
   "name": "python",
   "version": "3.7.3",
   "mimetype": "text/x-python",
   "codemirror_mode": {
    "name": "ipython",
    "version": 3
   },
   "pygments_lexer": "ipython3",
   "nbconvert_exporter": "python",
   "file_extension": ".py"
  },
  "kernelspec": {
   "name": "python3",
   "display_name": "Python 3.7.3 64-bit"
  },
  "interpreter": {
   "hash": "31f2aee4e71d21fbe5cf8b01ff0e069b9275f58929596ceb00d14d90e3e16cd6"
  }
 },
 "nbformat": 4,
 "nbformat_minor": 2
}