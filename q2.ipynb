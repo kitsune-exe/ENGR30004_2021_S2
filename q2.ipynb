{
 "cells": [
  {
   "cell_type": "code",
   "execution_count": 1,
   "source": [
    "# q2\n",
    "class Stack:\n",
    "    def __init__(self):\n",
    "        self.items = []\n",
    "    \n",
    "    def isEmpty(self):\n",
    "        return self.items == []\n",
    "    \n",
    "    def push(self, items):\n",
    "        self.items.append(items)\n",
    "    \n",
    "    def pop(self):\n",
    "        return self.items.pop()\n",
    "\n",
    "def calculate(operator, operand1, operand2):\n",
    "    if operator == \"+\":\n",
    "        return operand1 + operand2\n",
    "    elif operator == \"-\":\n",
    "        return operand1 - operand2\n",
    "    elif operator == \"*\":\n",
    "        return operand1 * operand2\n",
    "    elif operator == \"/\":\n",
    "        return operand1 / operand2\n",
    "\n",
    "def postfixEval(expression):\n",
    "    operators = [\"+\", \"-\", \"*\", \"/\"]\n",
    "    operandStack = Stack()\n",
    "    tokenList = expression.split(\" \")\n",
    "\n",
    "    for token in tokenList:\n",
    "        if token in operators:\n",
    "            operand1 = operandStack.pop()\n",
    "            operand2 = operandStack.pop()\n",
    "            result = calculate(token, operand2, operand1)\n",
    "            operandStack.push(result)\n",
    "        else:\n",
    "            operandStack.push(int(token))\n",
    "    \n",
    "    return operandStack.pop()\n",
    "\n",
    "\n",
    "def main():\n",
    "    lines = \"\"\n",
    "    f = open(\"q2_in.txt\", \"r\")\n",
    "    lines = f.read()\n",
    "    f.close()\n",
    "\n",
    "    f = open('q2_out.txt', \"w\")\n",
    "    f.write(str(postfixEval(lines)))\n",
    "    f.close()\n",
    "\n",
    "if __name__ == '__main__':\n",
    "    main()"
   ],
   "outputs": [],
   "metadata": {}
  }
 ],
 "metadata": {
  "orig_nbformat": 4,
  "language_info": {
   "name": "python",
   "version": "3.9.6",
   "mimetype": "text/x-python",
   "codemirror_mode": {
    "name": "ipython",
    "version": 3
   },
   "pygments_lexer": "ipython3",
   "nbconvert_exporter": "python",
   "file_extension": ".py"
  },
  "kernelspec": {
   "name": "python3",
   "display_name": "Python 3.9.6 64-bit"
  },
  "interpreter": {
   "hash": "aee8b7b246df8f9039afb4144a1f6fd8d2ca17a180786b69acc140d282b71a49"
  }
 },
 "nbformat": 4,
 "nbformat_minor": 2
}