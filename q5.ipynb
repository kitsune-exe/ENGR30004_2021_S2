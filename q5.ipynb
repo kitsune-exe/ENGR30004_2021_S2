{
 "cells": [
  {
   "cell_type": "code",
   "execution_count": 3,
   "source": [
    "# q5\n",
    "import heapq\n",
    "\n",
    "\n",
    "def main():\n",
    "    lines = []\n",
    "    N = 0\n",
    "    wagons = []\n",
    "    heapq.heapify(wagons)\n",
    "\n",
    "\n",
    "    f = open('q5_in.txt', 'r')\n",
    "    lines = f.readlines()\n",
    "    f.close()\n",
    "    N = int(lines[0])\n",
    "    if N < 2 or N > 100:\n",
    "        raise ValueError\n",
    "\n",
    "    # push the length of wagons into the heap\n",
    "    for elements in lines[1].split(\" \"):\n",
    "        heapq.heappush(wagons, int(elements))\n",
    "\n",
    "    try:\n",
    "        cost = 0\n",
    "        while len(wagons) > 1:\n",
    "            # pop out 2 smallest length\n",
    "            length1 = heapq.heappop(wagons)\n",
    "            length2 = heapq.heappop(wagons)\n",
    "            # add the sum to cost\n",
    "            cost += length1 + length2\n",
    "            # only push sum back, not cost\n",
    "            heapq.heappush(wagons, length1 + length2)\n",
    "        f = open('q5_out.txt', 'w')\n",
    "        f.write(str(cost))\n",
    "        f.close()\n",
    "    except (ValueError, IOError, FileNotFoundError):\n",
    "        pass\n",
    "\n",
    "if __name__ == '__main__':\n",
    "    main()\n"
   ],
   "outputs": [],
   "metadata": {}
  }
 ],
 "metadata": {
  "orig_nbformat": 4,
  "language_info": {
   "name": "python",
   "version": "3.7.3",
   "mimetype": "text/x-python",
   "codemirror_mode": {
    "name": "ipython",
    "version": 3
   },
   "pygments_lexer": "ipython3",
   "nbconvert_exporter": "python",
   "file_extension": ".py"
  },
  "kernelspec": {
   "name": "python3",
   "display_name": "Python 3.7.3 64-bit"
  },
  "interpreter": {
   "hash": "31f2aee4e71d21fbe5cf8b01ff0e069b9275f58929596ceb00d14d90e3e16cd6"
  }
 },
 "nbformat": 4,
 "nbformat_minor": 2
}