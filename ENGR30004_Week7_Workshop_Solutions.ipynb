{
  "nbformat": 4,
  "nbformat_minor": 5,
  "metadata": {
    "colab": {
      "name": "ENGR30004_Week7_Workshop_Solutions.ipynb",
      "provenance": [],
      "toc_visible": true
    },
    "kernelspec": {
      "display_name": "Python 3",
      "language": "python",
      "name": "python3"
    },
    "language_info": {
      "codemirror_mode": {
        "name": "ipython",
        "version": 3
      },
      "file_extension": ".py",
      "mimetype": "text/x-python",
      "name": "python",
      "nbconvert_exporter": "python",
      "pygments_lexer": "ipython3",
      "version": "3.8.10"
    }
  },
  "cells": [
    {
      "cell_type": "markdown",
      "metadata": {
        "id": "bd7b27ea-120e-4a94-81ec-24638ee60b28"
      },
      "source": [
        "# ENGR30004\n",
        "\n",
        "## Week 7 - Intermediate Data Structures"
      ],
      "id": "bd7b27ea-120e-4a94-81ec-24638ee60b28"
    },
    {
      "cell_type": "markdown",
      "metadata": {
        "id": "629cc183-2d0f-4f32-99f1-ea4d18edf468"
      },
      "source": [
        "Today, we will be looking at Hashtables and Sets"
      ],
      "id": "629cc183-2d0f-4f32-99f1-ea4d18edf468"
    },
    {
      "cell_type": "markdown",
      "metadata": {
        "id": "ebf4265f-5dda-4756-a0cf-eb4153fc286d"
      },
      "source": [
        "### Learning Objectives"
      ],
      "id": "ebf4265f-5dda-4756-a0cf-eb4153fc286d"
    },
    {
      "cell_type": "markdown",
      "metadata": {
        "id": "c42a6f3e-65f3-47bb-9ac8-8dbf24e6108f"
      },
      "source": [
        "- Implementing a Hashtable suitable for a real-life problem (Problem 1)\n",
        "    - Figure out how to use a python list to implement the functionality of a hashtable.\n",
        "    - Understand hash-functions, and create a basic hashfunction for a simple real-life scenario.\n",
        "    - Understand hash-collissions, and how to handle them effectively.\n",
        "    - Be able to compare and contrast different implementations for hashfunctions and collission handling.\n",
        "    \n",
        "- Using a Set (Problem 2)\n",
        "    - Identify problems where Sets are useful.\n",
        "    - Familiarise with basic Set functions."
      ],
      "id": "c42a6f3e-65f3-47bb-9ac8-8dbf24e6108f"
    },
    {
      "cell_type": "markdown",
      "metadata": {
        "id": "8bd5355a-b4fe-475d-906e-cab40bf99a56"
      },
      "source": [
        "### Problem 1: Hashtables"
      ],
      "id": "8bd5355a-b4fe-475d-906e-cab40bf99a56"
    },
    {
      "cell_type": "markdown",
      "metadata": {
        "id": "X7AXYLWxzOnr"
      },
      "source": [
        "We will learn how to use hashtables through a real-life example.\n",
        "\n",
        "Imagine you are collecting the data for a university. Not to complicate the example, you are collecting student `ID numbers`, and corresponding `names`.\n",
        "\n",
        "The ID numbers are of the format `XXXXXX C`, where an `X` stands for a digit from `[0-9]` (inclusive), and `C` stands for an uppercase letter `[A-Z]` (inclusive).\n",
        "\n",
        "Eg: `529401 F`\n",
        "\n",
        "Assume that you have a large collection of data, and that you need to look up the names of students with a given ID number. (Given in `student_records.txt` file)"
      ],
      "id": "X7AXYLWxzOnr"
    },
    {
      "cell_type": "markdown",
      "metadata": {
        "id": "uMLlRb8scH7z"
      },
      "source": [
        "#### Hash function"
      ],
      "id": "uMLlRb8scH7z"
    },
    {
      "cell_type": "markdown",
      "metadata": {
        "id": "c40f309f-cb2e-49ce-b91b-d341618be634"
      },
      "source": [
        "Create a hash function suitable for the given problem. (If you can separate the hash function into a hashcode, and a compression function)."
      ],
      "id": "c40f309f-cb2e-49ce-b91b-d341618be634"
    },
    {
      "cell_type": "markdown",
      "metadata": {
        "id": "mVFdDwMtyx1a"
      },
      "source": [
        "Following are different hash functions (hf1, hf2, hf3, hf4). In the workshops we compared these different functions "
      ],
      "id": "mVFdDwMtyx1a"
    },
    {
      "cell_type": "code",
      "metadata": {
        "id": "KrHcVbNrx5yx"
      },
      "source": [
        "def hash_code(key):\n",
        "  hashcode = 0\n",
        "  for i in range(0, 6):\n",
        "    hashcode += int(key[i])\n",
        "\n",
        "  return hashcode"
      ],
      "id": "KrHcVbNrx5yx",
      "execution_count": null,
      "outputs": []
    },
    {
      "cell_type": "code",
      "metadata": {
        "id": "S6vqBm7Hx--y"
      },
      "source": [
        "def hash_compression(hc):\n",
        "  return hc % 100"
      ],
      "id": "S6vqBm7Hx--y",
      "execution_count": null,
      "outputs": []
    },
    {
      "cell_type": "code",
      "metadata": {
        "id": "ACKpv-9IJx8B"
      },
      "source": [
        "def hf1(key):\n",
        "    hashcode = hash_code(key) #hash code\n",
        "    return hash_compression(hashcode) # hash compression"
      ],
      "id": "ACKpv-9IJx8B",
      "execution_count": null,
      "outputs": []
    },
    {
      "cell_type": "code",
      "metadata": {
        "id": "ac7289ec-55a5-407e-809c-634e85622fbc"
      },
      "source": [
        "def hf2(key):\n",
        "    hashcode = ord(key[-1]) - ord('A')\n",
        "    return hashcode"
      ],
      "id": "ac7289ec-55a5-407e-809c-634e85622fbc",
      "execution_count": null,
      "outputs": []
    },
    {
      "cell_type": "code",
      "metadata": {
        "id": "1609ead4-5a24-466c-9055-6ebd5a37efb3"
      },
      "source": [
        "# https://docs.python.org/3/library/functions.html#hash\n",
        "def hf3(key):\n",
        "    return hash(key) % 100"
      ],
      "id": "1609ead4-5a24-466c-9055-6ebd5a37efb3",
      "execution_count": null,
      "outputs": []
    },
    {
      "cell_type": "code",
      "metadata": {
        "id": "APAi5eiUyUWr"
      },
      "source": [
        "# https://docs.python.org/3/library/hashlib.html - another library you can use to get a hash code\n",
        "from hashlib import md5\n",
        "\n",
        "def hf4(key):\n",
        "  hash_code_hex = md5(str.encode(key)).hexdigest()\n",
        "  hash_code = int(hash_code_hex, base=16)\n",
        "  return hash_compression(hash_code)"
      ],
      "id": "APAi5eiUyUWr",
      "execution_count": null,
      "outputs": []
    },
    {
      "cell_type": "code",
      "metadata": {
        "id": "9943939d-8364-4ad8-8cd5-2a679589cf7a",
        "colab": {
          "base_uri": "https://localhost:8080/"
        },
        "outputId": "724db812-9fae-4792-83c1-f532388b0ada"
      },
      "source": [
        "hf1(\"529401 F\")"
      ],
      "id": "9943939d-8364-4ad8-8cd5-2a679589cf7a",
      "execution_count": null,
      "outputs": [
        {
          "output_type": "execute_result",
          "data": {
            "text/plain": [
              "21"
            ]
          },
          "metadata": {},
          "execution_count": 16
        }
      ]
    },
    {
      "cell_type": "code",
      "metadata": {
        "id": "1128b4c0-3858-470f-af50-c1cafceca800",
        "colab": {
          "base_uri": "https://localhost:8080/"
        },
        "outputId": "7057f8ad-73f5-4482-f6bb-a8c5b602f99e"
      },
      "source": [
        "hf2(\"529401 F\")"
      ],
      "id": "1128b4c0-3858-470f-af50-c1cafceca800",
      "execution_count": null,
      "outputs": [
        {
          "output_type": "execute_result",
          "data": {
            "text/plain": [
              "5"
            ]
          },
          "metadata": {},
          "execution_count": 17
        }
      ]
    },
    {
      "cell_type": "code",
      "metadata": {
        "id": "13545217-7343-42ec-b3cc-4f43b44d9aa1",
        "colab": {
          "base_uri": "https://localhost:8080/"
        },
        "outputId": "ca32e853-480e-4a6f-fbac-809d2ad32f24"
      },
      "source": [
        "hf3(\"839554 M\")"
      ],
      "id": "13545217-7343-42ec-b3cc-4f43b44d9aa1",
      "execution_count": null,
      "outputs": [
        {
          "output_type": "execute_result",
          "data": {
            "text/plain": [
              "69"
            ]
          },
          "metadata": {},
          "execution_count": 18
        }
      ]
    },
    {
      "cell_type": "code",
      "metadata": {
        "colab": {
          "base_uri": "https://localhost:8080/"
        },
        "id": "JrOP0BzEysqz",
        "outputId": "88d418cb-7b8c-43fd-a9fe-246545e86be6"
      },
      "source": [
        "hf4(\"839554 M\")"
      ],
      "id": "JrOP0BzEysqz",
      "execution_count": null,
      "outputs": [
        {
          "output_type": "execute_result",
          "data": {
            "text/plain": [
              "82"
            ]
          },
          "metadata": {},
          "execution_count": 19
        }
      ]
    },
    {
      "cell_type": "markdown",
      "metadata": {
        "id": "5dh-lLU5JFVs"
      },
      "source": [
        "#### Hashtable"
      ],
      "id": "5dh-lLU5JFVs"
    },
    {
      "cell_type": "markdown",
      "metadata": {
        "id": "efbdffd9-d406-43b1-96a4-8f87fd0ee455"
      },
      "source": [
        "Implement a crude version of a hashtable using python lists. Use the skeleton given below.\n",
        "\n",
        "How will you handle the hash colissions? (Implement one stratergy you learnt in the class)"
      ],
      "id": "efbdffd9-d406-43b1-96a4-8f87fd0ee455"
    },
    {
      "cell_type": "code",
      "metadata": {
        "id": "OqQxWWzGaw0K"
      },
      "source": [
        "# Without collission handling\n",
        "class Hashtable:\n",
        "    \n",
        "    def __init__(self):\n",
        "        self.hash_table = [None] * 100\n",
        "    \n",
        "    def insert(self, key, value):\n",
        "        index = hf3(key) #choose a hash function from above\n",
        "        self.hash_table[index] = (key, value)\n",
        "    \n",
        "    def search(self, key):\n",
        "        index = hf3(key) #choose a hash function from above\n",
        "        if self.hash_table[index] is not None:\n",
        "          return self.hash_table[index][1]\n",
        "        else:\n",
        "          raise Exception(\"Entry not Found\")\n",
        "    \n",
        "    def count(self):\n",
        "        return sum(entry is not None for entry in self.hash_table)\n",
        "    \n",
        "    def remove(self, key):\n",
        "      index = hf3(key) #choose a hash function from above\n",
        "      if self.hash_table[index] is not None:\n",
        "        return self.hash_table.pop(index)\n",
        "      else:\n",
        "        raise Exception(\"Entry not Found to delete\")"
      ],
      "id": "OqQxWWzGaw0K",
      "execution_count": null,
      "outputs": []
    },
    {
      "cell_type": "code",
      "metadata": {
        "id": "74744975-2ba3-4376-bf62-6c656ba805a7"
      },
      "source": [
        "# With collission handling - This example is shown for Chaining\n",
        "class Hashtable:\n",
        "    \n",
        "    def __init__(self):\n",
        "        self.hash_table = [None] * 100\n",
        "    \n",
        "    def insert(self, key, value):\n",
        "        index = hf3(key)\n",
        "        hash_table_index_val = self.hash_table[index]\n",
        "\n",
        "        if (hash_table_index_val is None):\n",
        "          self.hash_table[index] = (key, value)\n",
        "        elif (type(hash_table_index_val) is list):\n",
        "          self.hash_table[index].append((key, value))\n",
        "        else:\n",
        "          self.hash_table[index] = [self.hash_table[index]]\n",
        "          self.hash_table[index].append((key, value))\n",
        "    \n",
        "    def search(self, key):\n",
        "        index = hf3(key)\n",
        "        hash_table_index_val = self.hash_table[index]\n",
        "\n",
        "        if (type(hash_table_index_val) is list):\n",
        "          for k, val in self.hash_table[index]:\n",
        "            if k == key:\n",
        "              return val\n",
        "        elif (type(hash_table_index_val) is tuple):\n",
        "          if key == self.hash_table[index][0]:\n",
        "            return self.hash_table[index][1]\n",
        "\n",
        "        raise Exception(\"Entry not Found\")\n",
        "    \n",
        "    def count(self):\n",
        "        return sum(entry is not None for entry in self.hash_table)\n",
        "    \n",
        "    def remove(self, key):\n",
        "        index = hf3(key)\n",
        "        hash_table_index_val = self.hash_table[index]\n",
        "\n",
        "        if (type(hash_table_index_val) is list):\n",
        "          for k, val in self.hash_table[index]:\n",
        "            if k == key:\n",
        "              self.hash_table[index].remove((k, val))\n",
        "              return\n",
        "        elif (type(hash_table_index_val) is tuple):\n",
        "          if key == self.hash_table[index][0]:\n",
        "            self.hash_table[index] = None\n",
        "\n",
        "        raise Exception(\"Entry not Found to delete\") "
      ],
      "id": "74744975-2ba3-4376-bf62-6c656ba805a7",
      "execution_count": null,
      "outputs": []
    },
    {
      "cell_type": "markdown",
      "metadata": {
        "id": "FthFVPQnK-lg"
      },
      "source": [
        "Test your solution by testing it against `student_records.txt` file."
      ],
      "id": "FthFVPQnK-lg"
    },
    {
      "cell_type": "code",
      "metadata": {
        "id": "d1ad64ad-3063-4f50-90b0-71b0674f4564"
      },
      "source": [
        "ht = Hashtable()"
      ],
      "id": "d1ad64ad-3063-4f50-90b0-71b0674f4564",
      "execution_count": null,
      "outputs": []
    },
    {
      "cell_type": "code",
      "metadata": {
        "id": "H7HLdtUbtrp4",
        "colab": {
          "base_uri": "https://localhost:8080/"
        },
        "outputId": "68c99c38-b9dd-4f44-d083-a4cf7afb1850"
      },
      "source": [
        "f = open(\"student_records.txt\", 'r')\n",
        "\n",
        "for i in range(40):\n",
        "    line = f.readline()\n",
        "    line = line.split(' ')\n",
        "    key = line[0] + \" \" + line[1]\n",
        "    val = line[2][:-1]\n",
        "    print(key + \" \" + val)\n",
        "    \n",
        "    ht.insert(key, val)\n",
        "    \n",
        "f.close()"
      ],
      "id": "H7HLdtUbtrp4",
      "execution_count": null,
      "outputs": [
        {
          "output_type": "stream",
          "name": "stdout",
          "text": [
            "839554 M Michael\n",
            "857000 X Christopher\n",
            "340118 L Jessica\n",
            "199760 L Matthew\n",
            "387025 Y Ashley\n",
            "719977 H Jennifer\n",
            "308335 V Joshua\n",
            "983106 F Amanda\n",
            "618587 E Daniel\n",
            "693671 O David\n",
            "910524 R James\n",
            "737903 K Robert\n",
            "146971 Q John\n",
            "415442 H Joseph\n",
            "469007 D Andrew\n",
            "180166 D Ryan\n",
            "819207 V Brandon\n",
            "279847 Y Jason\n",
            "594450 O Justin\n",
            "747579 X Sarah\n",
            "576519 H William\n",
            "244644 Z Jonathan\n",
            "397033 S Stephanie\n",
            "374357 G Brian\n",
            "618581 R Nicole\n",
            "728758 K Nicholas\n",
            "839883 Y Anthony\n",
            "218661 T Heather\n",
            "430472 M Eric\n",
            "777329 K Elizabeth\n",
            "222913 D Adam\n",
            "302859 O Megan\n",
            "191094 F Melissa\n",
            "972734 O Kevin\n",
            "593442 Q Steven\n",
            "621176 W Thomas\n",
            "900308 H Timothy\n",
            "491176 I Christina\n",
            "740845 K Kyle\n",
            "569451 T Rachel\n"
          ]
        }
      ]
    },
    {
      "cell_type": "code",
      "metadata": {
        "tags": [],
        "id": "d1b2f3a5-87e4-40c6-ab75-7cd49e23e025",
        "colab": {
          "base_uri": "https://localhost:8080/",
          "height": 35
        },
        "outputId": "5352af99-1e48-46b6-db2b-be0af37e160d"
      },
      "source": [
        "ht.search(\"191094 F\")"
      ],
      "id": "d1b2f3a5-87e4-40c6-ab75-7cd49e23e025",
      "execution_count": null,
      "outputs": [
        {
          "output_type": "execute_result",
          "data": {
            "application/vnd.google.colaboratory.intrinsic+json": {
              "type": "string"
            },
            "text/plain": [
              "'Melissa'"
            ]
          },
          "metadata": {},
          "execution_count": 41
        }
      ]
    },
    {
      "cell_type": "code",
      "metadata": {
        "id": "89dcb0d3-1e2b-4120-a741-e9cd00573c57",
        "colab": {
          "base_uri": "https://localhost:8080/",
          "height": 35
        },
        "outputId": "d3770967-a772-4b51-b069-eecb7c10e1fa"
      },
      "source": [
        "ht.search(\"983106 F\")"
      ],
      "id": "89dcb0d3-1e2b-4120-a741-e9cd00573c57",
      "execution_count": null,
      "outputs": [
        {
          "output_type": "execute_result",
          "data": {
            "application/vnd.google.colaboratory.intrinsic+json": {
              "type": "string"
            },
            "text/plain": [
              "'Amanda'"
            ]
          },
          "metadata": {},
          "execution_count": 42
        }
      ]
    },
    {
      "cell_type": "code",
      "metadata": {
        "id": "58db88d4-9b3a-4a4b-8684-27dbaec93d8f",
        "colab": {
          "base_uri": "https://localhost:8080/",
          "height": 35
        },
        "outputId": "063c94e8-ff56-4570-c2d7-247cf7462ff2"
      },
      "source": [
        "ht.search(\"308335 V\")"
      ],
      "id": "58db88d4-9b3a-4a4b-8684-27dbaec93d8f",
      "execution_count": null,
      "outputs": [
        {
          "output_type": "execute_result",
          "data": {
            "application/vnd.google.colaboratory.intrinsic+json": {
              "type": "string"
            },
            "text/plain": [
              "'Joshua'"
            ]
          },
          "metadata": {},
          "execution_count": 43
        }
      ]
    },
    {
      "cell_type": "code",
      "metadata": {
        "id": "0f6878db-993a-48d4-a67b-4feb329c8c2a",
        "colab": {
          "base_uri": "https://localhost:8080/",
          "height": 283
        },
        "outputId": "43241b31-4e49-4f53-8bf8-d0a08db687fc"
      },
      "source": [
        "ht.search(\"308335 A\")"
      ],
      "id": "0f6878db-993a-48d4-a67b-4feb329c8c2a",
      "execution_count": null,
      "outputs": [
        {
          "output_type": "error",
          "ename": "Exception",
          "evalue": "ignored",
          "traceback": [
            "\u001b[0;31m---------------------------------------------------------------------------\u001b[0m",
            "\u001b[0;31mException\u001b[0m                                 Traceback (most recent call last)",
            "\u001b[0;32m<ipython-input-44-944eb25a6c4e>\u001b[0m in \u001b[0;36m<module>\u001b[0;34m()\u001b[0m\n\u001b[0;32m----> 1\u001b[0;31m \u001b[0mht\u001b[0m\u001b[0;34m.\u001b[0m\u001b[0msearch\u001b[0m\u001b[0;34m(\u001b[0m\u001b[0;34m\"308335 A\"\u001b[0m\u001b[0;34m)\u001b[0m\u001b[0;34m\u001b[0m\u001b[0;34m\u001b[0m\u001b[0m\n\u001b[0m",
            "\u001b[0;32m<ipython-input-38-36fe9ae4306a>\u001b[0m in \u001b[0;36msearch\u001b[0;34m(self, key)\u001b[0m\n\u001b[1;32m     29\u001b[0m             \u001b[0;32mreturn\u001b[0m \u001b[0mself\u001b[0m\u001b[0;34m.\u001b[0m\u001b[0mhash_table\u001b[0m\u001b[0;34m[\u001b[0m\u001b[0mindex\u001b[0m\u001b[0;34m]\u001b[0m\u001b[0;34m[\u001b[0m\u001b[0;36m1\u001b[0m\u001b[0;34m]\u001b[0m\u001b[0;34m\u001b[0m\u001b[0;34m\u001b[0m\u001b[0m\n\u001b[1;32m     30\u001b[0m \u001b[0;34m\u001b[0m\u001b[0m\n\u001b[0;32m---> 31\u001b[0;31m         \u001b[0;32mraise\u001b[0m \u001b[0mException\u001b[0m\u001b[0;34m(\u001b[0m\u001b[0;34m\"Entry not Found\"\u001b[0m\u001b[0;34m)\u001b[0m\u001b[0;34m\u001b[0m\u001b[0;34m\u001b[0m\u001b[0m\n\u001b[0m\u001b[1;32m     32\u001b[0m \u001b[0;34m\u001b[0m\u001b[0m\n\u001b[1;32m     33\u001b[0m     \u001b[0;32mdef\u001b[0m \u001b[0mcount\u001b[0m\u001b[0;34m(\u001b[0m\u001b[0mself\u001b[0m\u001b[0;34m)\u001b[0m\u001b[0;34m:\u001b[0m\u001b[0;34m\u001b[0m\u001b[0;34m\u001b[0m\u001b[0m\n",
            "\u001b[0;31mException\u001b[0m: Entry not Found"
          ]
        }
      ]
    },
    {
      "cell_type": "code",
      "metadata": {
        "id": "7945b28c-3df7-40b3-b84e-5b0b03fb00c6",
        "colab": {
          "base_uri": "https://localhost:8080/"
        },
        "outputId": "caceafdd-4d05-4c9a-824c-a6b3405abf92"
      },
      "source": [
        "ht.count()"
      ],
      "id": "7945b28c-3df7-40b3-b84e-5b0b03fb00c6",
      "execution_count": null,
      "outputs": [
        {
          "output_type": "execute_result",
          "data": {
            "text/plain": [
              "33"
            ]
          },
          "metadata": {},
          "execution_count": 45
        }
      ]
    },
    {
      "cell_type": "markdown",
      "metadata": {
        "id": "944193c9-c4ce-4dd5-9b18-4dbcad6f9288"
      },
      "source": [
        "#### Hashtables Using Python Standard Library"
      ],
      "id": "944193c9-c4ce-4dd5-9b18-4dbcad6f9288"
    },
    {
      "cell_type": "markdown",
      "metadata": {
        "id": "968b38b5-28d7-4dc3-8c0c-29558cfa5dde"
      },
      "source": [
        "Implement the same solution using a python dictionary."
      ],
      "id": "968b38b5-28d7-4dc3-8c0c-29558cfa5dde"
    },
    {
      "cell_type": "code",
      "metadata": {
        "id": "cc89f5e7-9805-47c1-bc80-1c4e13dd1d4e",
        "colab": {
          "base_uri": "https://localhost:8080/"
        },
        "outputId": "0128a347-6896-43e6-a443-5e9c3561726b"
      },
      "source": [
        "# python dictionaries - https://docs.python.org/3/tutorial/datastructures.html#dictionaries\n",
        "f = open(\"student_records.txt\", 'r')\n",
        "\n",
        "ht = dict()\n",
        "\n",
        "for i in range(40):\n",
        "    line = f.readline()\n",
        "    line = line.split(' ')\n",
        "    key = line[0] + \" \" + line[1]\n",
        "    val = line[2][:-1]\n",
        "    print(key + \" \" + val)\n",
        "    \n",
        "    ht[key] = val\n",
        "    \n",
        "f.close()"
      ],
      "id": "cc89f5e7-9805-47c1-bc80-1c4e13dd1d4e",
      "execution_count": null,
      "outputs": [
        {
          "output_type": "stream",
          "name": "stdout",
          "text": [
            "839554 M Michael\n",
            "857000 X Christopher\n",
            "340118 L Jessica\n",
            "199760 L Matthew\n",
            "387025 Y Ashley\n",
            "719977 H Jennifer\n",
            "308335 V Joshua\n",
            "983106 F Amanda\n",
            "618587 E Daniel\n",
            "693671 O David\n",
            "910524 R James\n",
            "737903 K Robert\n",
            "146971 Q John\n",
            "415442 H Joseph\n",
            "469007 D Andrew\n",
            "180166 D Ryan\n",
            "819207 V Brandon\n",
            "279847 Y Jason\n",
            "594450 O Justin\n",
            "747579 X Sarah\n",
            "576519 H William\n",
            "244644 Z Jonathan\n",
            "397033 S Stephanie\n",
            "374357 G Brian\n",
            "618581 R Nicole\n",
            "728758 K Nicholas\n",
            "839883 Y Anthony\n",
            "218661 T Heather\n",
            "430472 M Eric\n",
            "777329 K Elizabeth\n",
            "222913 D Adam\n",
            "302859 O Megan\n",
            "191094 F Melissa\n",
            "972734 O Kevin\n",
            "593442 Q Steven\n",
            "621176 W Thomas\n",
            "900308 H Timothy\n",
            "491176 I Christina\n",
            "740845 K Kyle\n",
            "569451 T Rachel\n"
          ]
        }
      ]
    },
    {
      "cell_type": "code",
      "metadata": {
        "tags": [],
        "id": "885d5d33-5261-4511-b827-9c8b3d2e1e35",
        "colab": {
          "base_uri": "https://localhost:8080/",
          "height": 35
        },
        "outputId": "02fc141c-4d1d-43ea-fdc4-bd92a86dc645"
      },
      "source": [
        "ht[\"191094 F\"]"
      ],
      "id": "885d5d33-5261-4511-b827-9c8b3d2e1e35",
      "execution_count": null,
      "outputs": [
        {
          "output_type": "execute_result",
          "data": {
            "application/vnd.google.colaboratory.intrinsic+json": {
              "type": "string"
            },
            "text/plain": [
              "'Melissa'"
            ]
          },
          "metadata": {},
          "execution_count": 47
        }
      ]
    },
    {
      "cell_type": "code",
      "metadata": {
        "id": "fa87efdd-f681-489f-b896-b2afea169f88",
        "colab": {
          "base_uri": "https://localhost:8080/",
          "height": 35
        },
        "outputId": "cf9a86f7-18ed-4773-f505-ccc0b3e3c619"
      },
      "source": [
        "ht[\"983106 F\"]"
      ],
      "id": "fa87efdd-f681-489f-b896-b2afea169f88",
      "execution_count": null,
      "outputs": [
        {
          "output_type": "execute_result",
          "data": {
            "application/vnd.google.colaboratory.intrinsic+json": {
              "type": "string"
            },
            "text/plain": [
              "'Amanda'"
            ]
          },
          "metadata": {},
          "execution_count": 48
        }
      ]
    },
    {
      "cell_type": "code",
      "metadata": {
        "id": "6ea8baa2-2b7b-4f94-a359-809f4a0ed19b",
        "colab": {
          "base_uri": "https://localhost:8080/",
          "height": 35
        },
        "outputId": "8c177e13-7992-48f6-f648-814d57fb10fe"
      },
      "source": [
        "ht[\"308335 V\"]"
      ],
      "id": "6ea8baa2-2b7b-4f94-a359-809f4a0ed19b",
      "execution_count": null,
      "outputs": [
        {
          "output_type": "execute_result",
          "data": {
            "application/vnd.google.colaboratory.intrinsic+json": {
              "type": "string"
            },
            "text/plain": [
              "'Joshua'"
            ]
          },
          "metadata": {},
          "execution_count": 49
        }
      ]
    },
    {
      "cell_type": "code",
      "metadata": {
        "id": "e88f1613-9a4f-49b9-b3fa-27d477793b9f",
        "colab": {
          "base_uri": "https://localhost:8080/",
          "height": 164
        },
        "outputId": "4efff3e9-b689-4804-8222-2d9999252cb7"
      },
      "source": [
        "ht[\"308335 A\"]"
      ],
      "id": "e88f1613-9a4f-49b9-b3fa-27d477793b9f",
      "execution_count": null,
      "outputs": [
        {
          "output_type": "error",
          "ename": "KeyError",
          "evalue": "ignored",
          "traceback": [
            "\u001b[0;31m---------------------------------------------------------------------------\u001b[0m",
            "\u001b[0;31mKeyError\u001b[0m                                  Traceback (most recent call last)",
            "\u001b[0;32m<ipython-input-50-720c2ceab98c>\u001b[0m in \u001b[0;36m<module>\u001b[0;34m()\u001b[0m\n\u001b[0;32m----> 1\u001b[0;31m \u001b[0mht\u001b[0m\u001b[0;34m[\u001b[0m\u001b[0;34m\"308335 A\"\u001b[0m\u001b[0;34m]\u001b[0m\u001b[0;34m\u001b[0m\u001b[0;34m\u001b[0m\u001b[0m\n\u001b[0m",
            "\u001b[0;31mKeyError\u001b[0m: '308335 A'"
          ]
        }
      ]
    },
    {
      "cell_type": "markdown",
      "metadata": {
        "id": "ffc8bc6f-2749-4d15-bcdf-04e319552f41"
      },
      "source": [
        "### Problem 2: Sets"
      ],
      "id": "ffc8bc6f-2749-4d15-bcdf-04e319552f41"
    },
    {
      "cell_type": "markdown",
      "metadata": {
        "id": "6e4217e7-ab86-47f0-9d26-9b626c39c372"
      },
      "source": [
        "Let us explore sets while solving a programming question. We will be using sets from python standard library.\n",
        "\n",
        "https://docs.python.org/3/tutorial/datastructures.html#sets"
      ],
      "id": "6e4217e7-ab86-47f0-9d26-9b626c39c372"
    },
    {
      "cell_type": "markdown",
      "metadata": {
        "id": "e974ef9e-11a1-427a-8795-d1df6ad94e81"
      },
      "source": [
        "The following data are the winning Powerball numbers for some draws. (Don't gamble, btw!)"
      ],
      "id": "e974ef9e-11a1-427a-8795-d1df6ad94e81"
    },
    {
      "cell_type": "markdown",
      "metadata": {
        "id": "5ebf1c1d-d225-4fa3-9c79-3eea8d016fdd"
      },
      "source": [
        "**August**\n",
        "\n",
        "**Draw 1:**\n",
        "28\n",
        "25\n",
        "10\n",
        "27\n",
        "14\n",
        "11\n",
        "32\n",
        "6\n",
        "\n",
        "**Draw 2:**\n",
        "26\n",
        "7\n",
        "9\n",
        "10\n",
        "2\n",
        "30\n",
        "8\n",
        "3\n",
        "\n",
        "**Draw 3:**\n",
        "17\n",
        "10\n",
        "4\n",
        "26\n",
        "19\n",
        "23\n",
        "21\n",
        "7\n",
        "\n",
        "**Draw 4:**\n",
        "16\n",
        "25\n",
        "12\n",
        "7\n",
        "11\n",
        "10\n",
        "21\n",
        "18\n",
        "\n"
      ],
      "id": "5ebf1c1d-d225-4fa3-9c79-3eea8d016fdd"
    },
    {
      "cell_type": "markdown",
      "metadata": {
        "id": "e1dd7dbd-b6fa-472e-a542-5f65618ae926"
      },
      "source": [
        "**July**\n",
        "\n",
        "**Draw 1:**\n",
        "23\n",
        "26\n",
        "7\n",
        "4\n",
        "33\n",
        "35\n",
        "22\n",
        "17\n",
        "\n",
        "**Draw 2:**\n",
        "28\n",
        "25\n",
        "15\n",
        "13\n",
        "20\n",
        "29\n",
        "16\n",
        "11\n",
        "\n",
        "**Draw 3:**\n",
        "25\n",
        "32\n",
        "17\n",
        "16\n",
        "3\n",
        "11\n",
        "26\n",
        "2\n",
        "\n",
        "**Draw 4:**\n",
        "7\n",
        "8\n",
        "17\n",
        "9\n",
        "19\n",
        "32\n",
        "15\n",
        "6\n",
        "\n",
        "**Draw 5:**\n",
        "13\n",
        "19\n",
        "18\n",
        "17\n",
        "11\n",
        "16\n",
        "20\n",
        "15\n",
        "\n",
        "\n"
      ],
      "id": "e1dd7dbd-b6fa-472e-a542-5f65618ae926"
    },
    {
      "cell_type": "markdown",
      "metadata": {
        "id": "aad04f11-702b-4ccf-8bb7-2190f04eb601"
      },
      "source": [
        "Answer the following questions, with the use of Sets"
      ],
      "id": "aad04f11-702b-4ccf-8bb7-2190f04eb601"
    },
    {
      "cell_type": "markdown",
      "metadata": {
        "id": "496a7ab1-64e0-4e9e-8198-965faa07cba0"
      },
      "source": [
        "1. Which balls were drawn in August?"
      ],
      "id": "496a7ab1-64e0-4e9e-8198-965faa07cba0"
    },
    {
      "cell_type": "code",
      "metadata": {
        "id": "09dbeb76-d4b4-471e-83ba-3bb8d2c286b5",
        "outputId": "77eb017f-28aa-4fe5-aadb-8a7e3497b689"
      },
      "source": [
        "August_1 = set([28, 25, 10, 27, 14, 11, 32, 6])\n",
        "August_2 = {26, 7, 9, 10, 2, 30, 8, 3}\n",
        "August_3 = {17, 10, 4, 26, 19, 23, 21, 7}\n",
        "August_4 = {16, 25, 12, 7, 11, 10, 21, 18}\n",
        "\n",
        "August = August_1 | August_2 | August_3 | August_4\n",
        "August"
      ],
      "id": "09dbeb76-d4b4-471e-83ba-3bb8d2c286b5",
      "execution_count": null,
      "outputs": [
        {
          "data": {
            "text/plain": [
              "{2,\n",
              " 3,\n",
              " 4,\n",
              " 6,\n",
              " 7,\n",
              " 8,\n",
              " 9,\n",
              " 10,\n",
              " 11,\n",
              " 12,\n",
              " 14,\n",
              " 16,\n",
              " 17,\n",
              " 18,\n",
              " 19,\n",
              " 21,\n",
              " 23,\n",
              " 25,\n",
              " 26,\n",
              " 27,\n",
              " 28,\n",
              " 30,\n",
              " 32}"
            ]
          },
          "execution_count": 5,
          "metadata": {},
          "output_type": "execute_result"
        }
      ]
    },
    {
      "cell_type": "markdown",
      "metadata": {
        "id": "dd9fd6ae-de89-434b-9f54-a2b0910165be"
      },
      "source": [
        "2. Which balls were drawn in July?"
      ],
      "id": "dd9fd6ae-de89-434b-9f54-a2b0910165be"
    },
    {
      "cell_type": "code",
      "metadata": {
        "id": "aba837f9-5aa1-418f-a60b-9945f80a9c69",
        "outputId": "8c96deab-77da-47f8-9f40-876f78a212a6"
      },
      "source": [
        "july1 = {23, 26, 7, 4, 33, 35, 22, 17}\n",
        "july2 = {28, 25, 15, 13, 20, 29, 16, 11}\n",
        "july3 = {25, 32, 17, 16, 3, 11, 26, 2}\n",
        "july4 = {7, 8, 17, 9, 19, 32, 15, 6}\n",
        "july5 = {13, 19, 18, 17, 11, 16, 20, 15}\n",
        "\n",
        "july = july1 | july2 | july3 | july4 | july5\n",
        "july"
      ],
      "id": "aba837f9-5aa1-418f-a60b-9945f80a9c69",
      "execution_count": null,
      "outputs": [
        {
          "data": {
            "text/plain": [
              "{2,\n",
              " 3,\n",
              " 4,\n",
              " 6,\n",
              " 7,\n",
              " 8,\n",
              " 9,\n",
              " 11,\n",
              " 13,\n",
              " 15,\n",
              " 16,\n",
              " 17,\n",
              " 18,\n",
              " 19,\n",
              " 20,\n",
              " 22,\n",
              " 23,\n",
              " 25,\n",
              " 26,\n",
              " 28,\n",
              " 29,\n",
              " 32,\n",
              " 33,\n",
              " 35}"
            ]
          },
          "execution_count": 7,
          "metadata": {},
          "output_type": "execute_result"
        }
      ]
    },
    {
      "cell_type": "markdown",
      "metadata": {
        "id": "cbe7ab1e-6230-430f-8f38-a8cf1e251b0f"
      },
      "source": [
        "3. How many unique balls were drawn in each month?"
      ],
      "id": "cbe7ab1e-6230-430f-8f38-a8cf1e251b0f"
    },
    {
      "cell_type": "code",
      "metadata": {
        "id": "986228f5-5ce7-4024-b5c2-b10a14825fba",
        "outputId": "40871a2c-1472-44d1-b257-634b4b256a32"
      },
      "source": [
        "len(August), len(july)"
      ],
      "id": "986228f5-5ce7-4024-b5c2-b10a14825fba",
      "execution_count": null,
      "outputs": [
        {
          "data": {
            "text/plain": [
              "(23, 24)"
            ]
          },
          "execution_count": 8,
          "metadata": {},
          "output_type": "execute_result"
        }
      ]
    },
    {
      "cell_type": "markdown",
      "metadata": {
        "id": "1ccc9590-1828-42aa-ba9d-398b6279417e"
      },
      "source": [
        "4. Which balls were drawn in both August and July?"
      ],
      "id": "1ccc9590-1828-42aa-ba9d-398b6279417e"
    },
    {
      "cell_type": "code",
      "metadata": {
        "id": "f09c8cc1-54a0-4d5d-b370-02e49beb89d2",
        "outputId": "b30208b2-c898-45fd-f758-4bab17d6d6a9"
      },
      "source": [
        "August & july"
      ],
      "id": "f09c8cc1-54a0-4d5d-b370-02e49beb89d2",
      "execution_count": null,
      "outputs": [
        {
          "data": {
            "text/plain": [
              "{2, 3, 4, 6, 7, 8, 9, 11, 16, 17, 18, 19, 23, 25, 26, 28, 32}"
            ]
          },
          "execution_count": 10,
          "metadata": {},
          "output_type": "execute_result"
        }
      ]
    },
    {
      "cell_type": "markdown",
      "metadata": {
        "id": "1dcabd63-d4a7-43eb-9def-b29ba15991c1"
      },
      "source": [
        "5. Which balls were drawn in August, but not in July? and which balls were drawn in July, but not in August?"
      ],
      "id": "1dcabd63-d4a7-43eb-9def-b29ba15991c1"
    },
    {
      "cell_type": "code",
      "metadata": {
        "id": "248f8173-d7f0-4b06-a0fd-8a182fbacf89",
        "outputId": "f7dfc8a9-0303-4ba4-897b-a184701e6606"
      },
      "source": [
        "August - july"
      ],
      "id": "248f8173-d7f0-4b06-a0fd-8a182fbacf89",
      "execution_count": null,
      "outputs": [
        {
          "data": {
            "text/plain": [
              "{10, 12, 14, 21, 27, 30}"
            ]
          },
          "execution_count": 11,
          "metadata": {},
          "output_type": "execute_result"
        }
      ]
    },
    {
      "cell_type": "code",
      "metadata": {
        "id": "27f7e9d2-a111-4650-bdd5-e2771495fcb7",
        "outputId": "f47e8f16-5199-4196-f371-9e8ac033107c"
      },
      "source": [
        "july - August"
      ],
      "id": "27f7e9d2-a111-4650-bdd5-e2771495fcb7",
      "execution_count": null,
      "outputs": [
        {
          "data": {
            "text/plain": [
              "{13, 15, 20, 22, 29, 33, 35}"
            ]
          },
          "execution_count": 12,
          "metadata": {},
          "output_type": "execute_result"
        }
      ]
    },
    {
      "cell_type": "markdown",
      "metadata": {
        "id": "cf218b8f-c42e-48d5-ab3a-f894bf85ceba"
      },
      "source": [
        "If you have completed the exercies, go back and implement a different hashfunction or a collission handling mechanism."
      ],
      "id": "cf218b8f-c42e-48d5-ab3a-f894bf85ceba"
    }
  ]
}