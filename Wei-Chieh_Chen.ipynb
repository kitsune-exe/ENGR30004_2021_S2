{
 "cells": [
  {
   "cell_type": "markdown",
   "metadata": {},
   "source": [
    "# Question 3\n",
    "\n",
    "## Question 3.1.1\n",
    "\n",
    "The program is in the next block.\n",
    "\n",
    "## Question 3.1.2\n",
    "\n",
    "## Question 3.2.1\n",
    "\n",
    "The program is in the third block.\n",
    "\n",
    "## Question 3.2.2\n",
    "\n",
    "## Question 3.2.3"
   ]
  },
  {
   "cell_type": "code",
   "execution_count": null,
   "metadata": {},
   "outputs": [],
   "source": [
    "# Q 3.1.1"
   ]
  },
  {
   "cell_type": "code",
   "execution_count": null,
   "metadata": {},
   "outputs": [],
   "source": [
    "# Q 3.2.1"
   ]
  },
  {
   "cell_type": "markdown",
   "metadata": {},
   "source": [
    "# Question 4\n",
    "\n",
    "## Question 4.1.1\n",
    "\n",
    "Quick sort.\n",
    "\n",
    "## Question 4.1.2\n",
    "\n",
    "Insertion sort.\n",
    "\n",
    "## Question 4.1.3\n",
    "\n",
    "Heap sort.\n",
    "\n",
    "## Question 4.2.4\n",
    "\n",
    "The program is in the next block.\n",
    "\n",
    "## Question 4.2.5\n"
   ]
  },
  {
   "cell_type": "code",
   "execution_count": 3,
   "metadata": {},
   "outputs": [
    {
     "data": {
      "text/plain": [
       "[10, 8, 5, 2, 1]"
      ]
     },
     "execution_count": 3,
     "metadata": {},
     "output_type": "execute_result"
    }
   ],
   "source": [
    "# Q 4.2.4\n",
    "\n",
    "def merge(arr, left, middle, right):\n",
    "    n1 = middle - left + 1\n",
    "    n2 = right - middle\n",
    "    L = [0] * n1\n",
    "    R = [0] * n2\n",
    "    for i in range(0, n1):\n",
    "        L[i] = arr[left + i]\n",
    "    for i in range(0, n2):\n",
    "        R[i] = arr[middle + i + 1]\n",
    "    \n",
    "    i, j = 0, 0\n",
    "    k = left\n",
    "\n",
    "    while i < n1 and j < n2:\n",
    "        if L[i] > R[j]:\n",
    "            arr[k] = L[i]\n",
    "            i += 1\n",
    "        else:\n",
    "            arr[k] = R[j]\n",
    "            j += 1\n",
    "        k += 1\n",
    "    \n",
    "    while i < n1:\n",
    "        arr[k] = L[i]\n",
    "        i += 1\n",
    "        k += 1\n",
    "    \n",
    "    while j < n2:\n",
    "        arr[k] = R[j]\n",
    "        j += 1\n",
    "        k += 1\n",
    "\n",
    "def merge_sort(arr):\n",
    "    width = 1\n",
    "    n = len(arr)\n",
    "    \n",
    "    while width < n:\n",
    "        left = 0\n",
    "        while (left < n):\n",
    "            right = min(left + (width * 2 - 1), n - 1)\n",
    "            middle = (left + right) // 2\n",
    "\n",
    "            if (width > n // 2):\n",
    "                middle = right - (n % width)\n",
    "            merge(arr, left, middle, right)\n",
    "            left += width * 2\n",
    "        width *= 2\n",
    "\n",
    "    return arr\n",
    "\n",
    "merge_sort([2, 8, 10, 1, 5])"
   ]
  },
  {
   "cell_type": "markdown",
   "metadata": {},
   "source": [
    "# Question 5\n",
    "\n",
    "## Question 5.1\n",
    "\n",
    "The program is in the next block.\n",
    "\n",
    "## Question 5.2.1\n",
    "\n",
    "## Question 5.2.2\n"
   ]
  },
  {
   "cell_type": "code",
   "execution_count": null,
   "metadata": {},
   "outputs": [],
   "source": [
    "# Q 5"
   ]
  }
 ],
 "metadata": {
  "interpreter": {
   "hash": "31f2aee4e71d21fbe5cf8b01ff0e069b9275f58929596ceb00d14d90e3e16cd6"
  },
  "kernelspec": {
   "display_name": "Python 3.8.9 64-bit",
   "name": "python3"
  },
  "language_info": {
   "codemirror_mode": {
    "name": "ipython",
    "version": 3
   },
   "file_extension": ".py",
   "mimetype": "text/x-python",
   "name": "python",
   "nbconvert_exporter": "python",
   "pygments_lexer": "ipython3",
   "version": "3.8.9"
  },
  "orig_nbformat": 4
 },
 "nbformat": 4,
 "nbformat_minor": 2
}
