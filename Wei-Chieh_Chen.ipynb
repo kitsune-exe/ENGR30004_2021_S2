{
 "cells": [
  {
   "cell_type": "markdown",
   "metadata": {},
   "source": [
    "# Question 3\n",
    "\n",
    "## Question 3.1.1\n",
    "\n",
    "The program is in the next block.\n",
    "\n",
    "## Question 3.1.2\n",
    "\n",
    "## Question 3.2.1\n",
    "\n",
    "The program is in the third block.\n",
    "\n",
    "## Question 3.2.2\n",
    "\n",
    "## Question 3.2.3"
   ]
  },
  {
   "cell_type": "code",
   "execution_count": null,
   "metadata": {},
   "outputs": [],
   "source": [
    "# Q 3.1.1"
   ]
  },
  {
   "cell_type": "code",
   "execution_count": null,
   "metadata": {},
   "outputs": [],
   "source": [
    "# Q 3.2.1"
   ]
  },
  {
   "cell_type": "markdown",
   "metadata": {},
   "source": [
    "# Question 4\n",
    "\n",
    "## Question 4.1.1\n",
    "\n",
    "## Question 4.1.2\n",
    "\n",
    "## Question 4.1.3\n",
    "\n",
    "## Question 4.2.4\n",
    "\n",
    "The program is in the next block.\n",
    "\n",
    "## Question 4.2.5\n"
   ]
  },
  {
   "cell_type": "code",
   "execution_count": null,
   "metadata": {},
   "outputs": [],
   "source": [
    "# Q 4.2.4"
   ]
  },
  {
   "cell_type": "markdown",
   "metadata": {},
   "source": [
    "# Question 5\n",
    "\n",
    "## Question 5.1\n",
    "\n",
    "The program is in the next block.\n",
    "\n",
    "## Question 5.2.1\n",
    "\n",
    "## Question 5.2.2\n"
   ]
  },
  {
   "cell_type": "code",
   "execution_count": null,
   "metadata": {},
   "outputs": [],
   "source": [
    "# Q 5"
   ]
  }
 ],
 "metadata": {
  "language_info": {
   "name": "python"
  },
  "orig_nbformat": 4
 },
 "nbformat": 4,
 "nbformat_minor": 2
}
