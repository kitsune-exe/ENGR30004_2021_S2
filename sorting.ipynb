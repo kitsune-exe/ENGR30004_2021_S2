{
 "cells": [
  {
   "cell_type": "markdown",
   "source": [
    "# Sorting Algorithms: Quick sort"
   ],
   "metadata": {}
  },
  {
   "cell_type": "code",
   "execution_count": 8,
   "source": [
    "# quick sort\n",
    "\n",
    "def partition(arr, low, high):\n",
    "    i = low - 1         # index of smaller index\n",
    "    pivot = arr[high]   # pivot\n",
    "\n",
    "    for j in range(low, high):\n",
    "        if arr[j] <= pivot:\n",
    "            i = i + 1\n",
    "            arr[i], arr[j] = arr[j], arr[i]\n",
    "    \n",
    "    arr[i+1], arr[high] = arr[high], arr[i+1]\n",
    "    return i+1\n",
    "\n",
    "def quickSort(arr, low, high):\n",
    "    if len(arr) == 1:\n",
    "        return arr\n",
    "    if low < high:\n",
    "        pi = partition(arr, low, high)\n",
    "        quickSort(arr, low, pi-1)\n",
    "        quickSort(arr, pi+1, high)\n",
    "\n",
    "arr = [24,30,35,56,32,60,16,19,38,87,6,52,26,80,68,21,54,66,84,34,74,96,25,63,95,62,37,13,45,36,15,51,20,75,73,71,5,11,42,41,90,59,40,91,93,57,86,2,33,48,46,7,4,50,64,53,81,23,99,82,65,28,89,55,10,76,9,85,58,78,47,17,31,39,72,97,14,22,44,77,69,83,92,61,12,94,79,88,29,49,67,98,27,43,3,70,18,8,100,1]\n",
    "n = len(arr)\n",
    "quickSort(arr, 0, n-1)\n",
    "for i in arr:\n",
    "    print(i, end=\" \")"
   ],
   "outputs": [
    {
     "output_type": "stream",
     "name": "stdout",
     "text": [
      "1 2 3 4 5 6 7 8 9 10 11 12 13 14 15 16 17 18 19 20 21 22 23 24 25 26 27 28 29 30 31 32 33 34 35 36 37 38 39 40 41 42 43 44 45 46 47 48 49 50 51 52 53 54 55 56 57 58 59 60 61 62 63 64 65 66 67 68 69 70 71 72 73 74 75 76 77 78 79 80 81 82 83 84 85 86 87 88 89 90 91 92 93 94 95 96 97 98 99 100 "
     ]
    }
   ],
   "metadata": {}
  },
  {
   "cell_type": "markdown",
   "source": [
    "# Merge sort"
   ],
   "metadata": {}
  },
  {
   "cell_type": "code",
   "execution_count": 9,
   "source": [
    "# merge sort\n",
    "\n",
    "# merge arr1 and arr2 into arr\n",
    "def merge(arr1, arr2, arr):\n",
    "    i = 0\n",
    "    j = 0\n",
    "    while i + j < len(arr):\n",
    "        if j == len(arr2) or (i < len(arr1) and arr1[i] < arr2[j]):\n",
    "            arr[i+j] = arr1[i]\n",
    "            i += 1\n",
    "        else:\n",
    "            arr[i+j] = arr2[j]\n",
    "            j += 1\n",
    "\n",
    "def mergeSort(arr):\n",
    "    n = len(arr)\n",
    "    if n < 2:\n",
    "        return\n",
    "    # find mid index\n",
    "    mid = n // 2\n",
    "    # divide into 2 arrays\n",
    "    arr1 = arr[0:mid]\n",
    "    arr2 = arr[mid:n]\n",
    "    # recursive\n",
    "    mergeSort(arr1)\n",
    "    mergeSort(arr2)\n",
    "\n",
    "    # merge the result\n",
    "    merge(arr1, arr2, arr)\n",
    "\n",
    "arr = [24,30,35,56,32,60,16,19,38,87,6,52,26,80,68,21,54,66,84,34,74,96,25,63,95,62,37,13,45,36,15,51,20,75,73,71,5,11,42,41,90,59,40,91,93,57,86,2,33,48,46,7,4,50,64,53,81,23,99,82,65,28,89,55,10,76,9,85,58,78,47,17,31,39,72,97,14,22,44,77,69,83,92,61,12,94,79,88,29,49,67,98,27,43,3,70,18,8,100,1]\n",
    "\n",
    "mergeSort(arr)\n",
    "\n",
    "for i in arr:\n",
    "    print(i, end=\" \")"
   ],
   "outputs": [
    {
     "output_type": "stream",
     "name": "stdout",
     "text": [
      "1 2 3 4 5 6 7 8 9 10 11 12 13 14 15 16 17 18 19 20 21 22 23 24 25 26 27 28 29 30 31 32 33 34 35 36 37 38 39 40 41 42 43 44 45 46 47 48 49 50 51 52 53 54 55 56 57 58 59 60 61 62 63 64 65 66 67 68 69 70 71 72 73 74 75 76 77 78 79 80 81 82 83 84 85 86 87 88 89 90 91 92 93 94 95 96 97 98 99 100 "
     ]
    }
   ],
   "metadata": {}
  },
  {
   "cell_type": "markdown",
   "source": [
    "# Radix sort"
   ],
   "metadata": {}
  },
  {
   "cell_type": "code",
   "execution_count": 10,
   "source": [
    "# radix sort\n",
    "def countingSort(arr, exp1):\n",
    "    n = len(arr)\n",
    "    output = [0] * n\n",
    "    count = [0] * 10\n",
    "    for i in range(0, n):\n",
    "        index = arr[i] // exp1\n",
    "        count[index%10] += 1\n",
    "    \n",
    "    for i in range(1, 10):\n",
    "        count[i] += count[i-1]\n",
    "    \n",
    "    i = n - 1\n",
    "    while i >= 0:\n",
    "        index = arr[i] // exp1\n",
    "        output[count[index%10]-1] = arr[i]\n",
    "        count[index%10] -= 1\n",
    "        i -= 1\n",
    "    \n",
    "    i = 0\n",
    "    for i in range(0, len(arr)):\n",
    "        arr[i] = output[i]\n",
    "\n",
    "def radixSort(arr):\n",
    "    max1 = max(arr)\n",
    "    exp = 1\n",
    "    while max1 / exp > 0:\n",
    "        countingSort(arr, exp)\n",
    "        exp *= 10\n",
    "\n",
    "arr = [24,30,35,56,32,60,16,19,38,87,6,52,26,80,68,21,54,66,84,34,74,96,25,63,95,62,37,13,45,36,15,51,20,75,73,71,5,11,42,41,90,59,40,91,93,57,86,2,33,48,46,7,4,50,64,53,81,23,99,82,65,28,89,55,10,76,9,85,58,78,47,17,31,39,72,97,14,22,44,77,69,83,92,61,12,94,79,88,29,49,67,98,27,43,3,70,18,8,100,1]\n",
    "\n",
    "radixSort(arr)\n",
    "\n",
    "for i in arr:\n",
    "    print(i, end=\" \")"
   ],
   "outputs": [
    {
     "output_type": "stream",
     "name": "stdout",
     "text": [
      "1 2 3 4 5 6 7 8 9 10 11 12 13 14 15 16 17 18 19 20 21 22 23 24 25 26 27 28 29 30 31 32 33 34 35 36 37 38 39 40 41 42 43 44 45 46 47 48 49 50 51 52 53 54 55 56 57 58 59 60 61 62 63 64 65 66 67 68 69 70 71 72 73 74 75 76 77 78 79 80 81 82 83 84 85 86 87 88 89 90 91 92 93 94 95 96 97 98 99 100 "
     ]
    }
   ],
   "metadata": {}
  },
  {
   "cell_type": "markdown",
   "source": [
    "# Insertion sort and In-place insertion sort"
   ],
   "metadata": {}
  },
  {
   "cell_type": "code",
   "execution_count": 11,
   "source": [
    "# insertion sort\n",
    "def insertionSort(arr):\n",
    "    for i in range(1, len(arr)):\n",
    "        key = arr[i]\n",
    "        j = i - 1\n",
    "        while j >= 0 and key < arr[j]:\n",
    "            arr[j + 1] = arr[j]\n",
    "            j -= 1\n",
    "            arr[j+1] = key\n",
    "\n",
    "arr = [24,30,35,56,32,60,16,19,38,87,6,52,26,80,68,21,54,66,84,34,74,96,25,63,95,62,37,13,45,36,15,51,20,75,73,71,5,11,42,41,90,59,40,91,93,57,86,2,33,48,46,7,4,50,64,53,81,23,99,82,65,28,89,55,10,76,9,85,58,78,47,17,31,39,72,97,14,22,44,77,69,83,92,61,12,94,79,88,29,49,67,98,27,43,3,70,18,8,100,1]\n",
    "\n",
    "insertionSort(arr)\n",
    "for i in arr:\n",
    "    print(i, end=\" \")"
   ],
   "outputs": [
    {
     "output_type": "stream",
     "name": "stdout",
     "text": [
      "1 2 3 4 5 6 7 8 9 10 11 12 13 14 15 16 17 18 19 20 21 22 23 24 25 26 27 28 29 30 31 32 33 34 35 36 37 38 39 40 41 42 43 44 45 46 47 48 49 50 51 52 53 54 55 56 57 58 59 60 61 62 63 64 65 66 67 68 69 70 71 72 73 74 75 76 77 78 79 80 81 82 83 84 85 86 87 88 89 90 91 92 93 94 95 96 97 98 99 100 "
     ]
    }
   ],
   "metadata": {}
  },
  {
   "cell_type": "markdown",
   "source": [
    "# Selection sort"
   ],
   "metadata": {}
  },
  {
   "cell_type": "code",
   "execution_count": 14,
   "source": [
    "# selection sort\n",
    "\n",
    "def selectionSort(arr):\n",
    "    for i in range(len(arr)):\n",
    "        min_index = i\n",
    "        for j in range(i+1, len(arr)):\n",
    "            if arr[min_index] > arr[j]:\n",
    "                min_index = j\n",
    "        arr[i], arr[min_index] = arr[min_index], arr[i]\n",
    "\n",
    "arr = [24,30,35,56,32,60,16,19,38,87,6,52,26,80,68,21,54,66,84,34,74,96,25,63,95,62,37,13,45,36,15,51,20,75,73,71,5,11,42,41,90,59,40,91,93,57,86,2,33,48,46,7,4,50,64,53,81,23,99,82,65,28,89,55,10,76,9,85,58,78,47,17,31,39,72,97,14,22,44,77,69,83,92,61,12,94,79,88,29,49,67,98,27,43,3,70,18,8,100,1]\n",
    "\n",
    "selectionSort(arr)\n",
    "\n",
    "for i in arr:\n",
    "    print(i, end=\" \")"
   ],
   "outputs": [
    {
     "output_type": "stream",
     "name": "stdout",
     "text": [
      "1 2 3 4 5 6 7 8 9 10 11 12 13 14 15 16 17 18 19 20 21 22 23 24 25 26 27 28 29 30 31 32 33 34 35 36 37 38 39 40 41 42 43 44 45 46 47 48 49 50 51 52 53 54 55 56 57 58 59 60 61 62 63 64 65 66 67 68 69 70 71 72 73 74 75 76 77 78 79 80 81 82 83 84 85 86 87 88 89 90 91 92 93 94 95 96 97 98 99 100 "
     ]
    }
   ],
   "metadata": {}
  }
 ],
 "metadata": {
  "orig_nbformat": 4,
  "language_info": {
   "name": "python",
   "version": "3.9.7",
   "mimetype": "text/x-python",
   "codemirror_mode": {
    "name": "ipython",
    "version": 3
   },
   "pygments_lexer": "ipython3",
   "nbconvert_exporter": "python",
   "file_extension": ".py"
  },
  "kernelspec": {
   "name": "python3",
   "display_name": "Python 3.9.7 64-bit"
  },
  "interpreter": {
   "hash": "aee8b7b246df8f9039afb4144a1f6fd8d2ca17a180786b69acc140d282b71a49"
  }
 },
 "nbformat": 4,
 "nbformat_minor": 2
}